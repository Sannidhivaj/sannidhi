{
  "nbformat": 4,
  "nbformat_minor": 0,
  "metadata": {
    "colab": {
      "provenance": []
    },
    "kernelspec": {
      "name": "python3",
      "display_name": "Python 3"
    },
    "language_info": {
      "name": "python"
    }
  },
  "cells": [
    {
      "cell_type": "markdown",
      "source": [
        "ASSIGNMENT-4"
      ],
      "metadata": {
        "id": "axm95mJ3GIob"
      }
    },
    {
      "cell_type": "code",
      "source": [
        "#1 write a program to display the factorial of anumber\n",
        "z=1\n",
        "for y in range(1,7):\n",
        "  z=z*y\n",
        "print(z)"
      ],
      "metadata": {
        "colab": {
          "base_uri": "https://localhost:8080/"
        },
        "id": "lwWnaYPHGN4I",
        "outputId": "198d2540-df73-41da-8fb8-906ad70b750d"
      },
      "execution_count": null,
      "outputs": [
        {
          "output_type": "stream",
          "name": "stdout",
          "text": [
            "720\n"
          ]
        }
      ]
    },
    {
      "cell_type": "code",
      "source": [
        "#2 write a program in python to reverse a word with the help of while loop and for loop\n",
        "x=input(\"enter a string: \")\n",
        "y=\"\"\n",
        "z=len(x)-1\n",
        "while z>=0:\n",
        "  y=y+x[z]\n",
        "  z=z-1\n",
        "print(y)"
      ],
      "metadata": {
        "colab": {
          "base_uri": "https://localhost:8080/"
        },
        "id": "KAQ10WN6G4lu",
        "outputId": "70d8e38e-95a1-4829-fcf1-eba1c8002b24"
      },
      "execution_count": null,
      "outputs": [
        {
          "output_type": "stream",
          "name": "stdout",
          "text": [
            "enter a string: python\n",
            "nohtyp\n"
          ]
        }
      ]
    },
    {
      "cell_type": "code",
      "source": [
        "x=input(\"enter a string: \")\n",
        "y=\"\"\n",
        "z=0\n",
        "for q in x:\n",
        "  z=z-1\n",
        "  y=y+x[z]\n",
        "print(y)"
      ],
      "metadata": {
        "colab": {
          "base_uri": "https://localhost:8080/"
        },
        "id": "p_FHJPciIy0P",
        "outputId": "2ab59d6f-7393-4987-d57b-6074a4c31440"
      },
      "execution_count": null,
      "outputs": [
        {
          "output_type": "stream",
          "name": "stdout",
          "text": [
            "enter a string: python\n",
            "nohtyp\n"
          ]
        }
      ]
    },
    {
      "cell_type": "code",
      "source": [
        "#3 write a program to print n natural number in descending order usimg a while loop.\n",
        "x=11\n",
        "while x>=1:\n",
        "  print(x)\n",
        "  x=x-1"
      ],
      "metadata": {
        "colab": {
          "base_uri": "https://localhost:8080/"
        },
        "id": "UT3JyXCHJjYe",
        "outputId": "ba1a339e-9c3e-498b-d708-8ef6f4559b2c"
      },
      "execution_count": null,
      "outputs": [
        {
          "output_type": "stream",
          "name": "stdout",
          "text": [
            "11\n",
            "10\n",
            "9\n",
            "8\n",
            "7\n",
            "6\n",
            "5\n",
            "4\n",
            "3\n",
            "2\n",
            "1\n"
          ]
        }
      ]
    },
    {
      "cell_type": "code",
      "source": [
        "#4 write a program to print multiplication table of any given number\n",
        "x=int(input(\"enter any number:\"))\n",
        "for y in range(1,11):\n",
        "  print(\"{}*{}={}\".format(x,y,x*y))"
      ],
      "metadata": {
        "colab": {
          "base_uri": "https://localhost:8080/"
        },
        "id": "K8ZPREiPKsak",
        "outputId": "65e84555-56b1-4bcd-cedd-d824fa8dd6c5"
      },
      "execution_count": null,
      "outputs": [
        {
          "output_type": "stream",
          "name": "stdout",
          "text": [
            "enter any number:4\n",
            "4*1=4\n",
            "4*2=8\n",
            "4*3=12\n",
            "4*4=16\n",
            "4*5=20\n",
            "4*6=24\n",
            "4*7=28\n",
            "4*8=32\n",
            "4*9=36\n",
            "4*10=40\n"
          ]
        }
      ]
    },
    {
      "cell_type": "code",
      "source": [
        "#5 count the total number of digits in a number. example of example, the number is 758692, so the output should be 6.\n",
        "x=int(input(\"enter the number: \"))\n",
        "count=0\n",
        "for y in str(x):\n",
        "  count=count+1\n",
        "print(count)"
      ],
      "metadata": {
        "colab": {
          "base_uri": "https://localhost:8080/"
        },
        "id": "wKXFJA2PMSBm",
        "outputId": "84c18d84-a3aa-40ea-cb8a-8ba9fb2e9eb7"
      },
      "execution_count": null,
      "outputs": [
        {
          "output_type": "stream",
          "name": "stdout",
          "text": [
            "enter the number: 647778\n",
            "6\n"
          ]
        }
      ]
    },
    {
      "cell_type": "code",
      "source": [
        "#6 write a program to display all prime numbers within a range.(a prime number is a numberthat cannot be made by multiplying other whole numbers.na prime number is a natural number greater than 1 that is not a product of two smaller natural numbers)\n",
        "x=range(2,110)\n",
        "for y in x:\n",
        "  while y%2!=0 or y==2:\n",
        "    while y%3!=0 or y==3:\n",
        "      while y%5!=0 or y==5:\n",
        "        while y%7!=0 or y==7:\n",
        "          print(y)\n",
        "          break\n",
        "        break\n",
        "      break\n",
        "    break\n",
        "  y=y+1\n",
        "\n"
      ],
      "metadata": {
        "id": "Fr2Cfld6OKs-",
        "colab": {
          "base_uri": "https://localhost:8080/"
        },
        "outputId": "cad207c9-1ffc-40c8-f374-8d523c2e6533"
      },
      "execution_count": 7,
      "outputs": [
        {
          "output_type": "stream",
          "name": "stdout",
          "text": [
            "2\n",
            "3\n",
            "5\n",
            "7\n",
            "11\n",
            "13\n",
            "17\n",
            "19\n",
            "23\n",
            "29\n",
            "31\n",
            "37\n",
            "41\n",
            "43\n",
            "47\n",
            "53\n",
            "59\n",
            "61\n",
            "67\n",
            "71\n",
            "73\n",
            "79\n",
            "83\n",
            "89\n",
            "97\n",
            "101\n",
            "103\n",
            "107\n",
            "109\n"
          ]
        }
      ]
    },
    {
      "cell_type": "code",
      "source": [
        "#7 display fibonacci series up to 10 terms (the fibonacci sequence is a series of numbers.the next numberv is found by adding up the two numbers before it. the first two numbers are 0 and 1. for example 0,1,1,2,3,4,5,8,13,21. the next number in this series above is 13+21=34.)\n",
        "n1=0\n",
        "n2=1\n",
        "print(n1)\n",
        "print(n2)\n",
        "for y in range(1,11):\n",
        "  n3=n1+n2\n",
        "  n1=n2\n",
        "  n2=n3\n",
        "  print(n3)"
      ],
      "metadata": {
        "colab": {
          "base_uri": "https://localhost:8080/"
        },
        "id": "BUmAF7p4PJu8",
        "outputId": "782f110a-f91a-4210-a4f5-7b80bbe99d04"
      },
      "execution_count": null,
      "outputs": [
        {
          "output_type": "stream",
          "name": "stdout",
          "text": [
            "0\n",
            "1\n",
            "1\n",
            "2\n",
            "3\n",
            "5\n",
            "8\n",
            "13\n",
            "21\n",
            "34\n",
            "55\n",
            "89\n"
          ]
        }
      ]
    },
    {
      "cell_type": "code",
      "source": [
        "#8 write a python program that accepts a word from the user and reverses it.\n",
        "x=input(\"enter a word: \")\n",
        "i=len(x)-1\n",
        "z=\"\"\n",
        "for y in x:\n",
        "  z=z+x[i]\n",
        "  i=i-1\n",
        "print(z)"
      ],
      "metadata": {
        "colab": {
          "base_uri": "https://localhost:8080/"
        },
        "id": "dkOoQJKzSeBA",
        "outputId": "3600f566-3545-4967-e526-e5b3d29c7a5e"
      },
      "execution_count": null,
      "outputs": [
        {
          "output_type": "stream",
          "name": "stdout",
          "text": [
            "enter a word: assignment\n",
            "tnemngissa\n"
          ]
        }
      ]
    }
  ]
}