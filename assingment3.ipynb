{
  "nbformat": 4,
  "nbformat_minor": 0,
  "metadata": {
    "colab": {
      "provenance": []
    },
    "kernelspec": {
      "name": "python3",
      "display_name": "Python 3"
    },
    "language_info": {
      "name": "python"
    }
  },
  "cells": [
    {
      "cell_type": "code",
      "execution_count": null,
      "metadata": {
        "id": "orQVoQ7OGJLm"
      },
      "outputs": [],
      "source": [
        "ASSIGNMENT - 3"
      ]
    },
    {
      "cell_type": "code",
      "source": [
        "#1 write a python program that prints all the numbers from 0 to 6 except 3 and 6\n",
        "x=0\n",
        "while x<=6:\n",
        "  if x%3!=0 or x==0:\n",
        "    print(x)\n",
        "  x=x+1"
      ],
      "metadata": {
        "colab": {
          "base_uri": "https://localhost:8080/"
        },
        "id": "Ss-OgbsXGVui",
        "outputId": "4aebf789-2c81-4ac4-db40-e17bd507e196"
      },
      "execution_count": null,
      "outputs": [
        {
          "output_type": "stream",
          "name": "stdout",
          "text": [
            "0\n",
            "1\n",
            "2\n",
            "4\n",
            "5\n"
          ]
        }
      ]
    },
    {
      "cell_type": "code",
      "source": [
        "#2 write a program to accept a number from a user calculate the sum of all numbers from 1 to a given number\n",
        "sum=int(input(\"enter a number: \"))\n",
        "x=1\n",
        "y=0\n",
        "while x<=sum:\n",
        "  y=y+x\n",
        "  x=x+1\n",
        "print(y)\n"
      ],
      "metadata": {
        "colab": {
          "base_uri": "https://localhost:8080/"
        },
        "id": "HvnR63sQHxVF",
        "outputId": "7b829b70-9e01-4b5b-e112-a79a844e0036"
      },
      "execution_count": null,
      "outputs": [
        {
          "output_type": "stream",
          "name": "stdout",
          "text": [
            "enter a number: 65\n",
            "2145\n"
          ]
        }
      ]
    },
    {
      "cell_type": "markdown",
      "source": [],
      "metadata": {
        "id": "zPkax0SmGMIh"
      }
    },
    {
      "cell_type": "code",
      "source": [
        "#3 write a program to print multiplication table of a given number\n",
        "x=int(input(\"enter a number: \"))\n",
        "y=1\n",
        "print(\"the multiplication table of {} upto 10 multiples is given by:\".format(x))\n",
        "while y<=10:\n",
        "  print(\"{}*{}={}\".format(x,y,x*y))\n",
        "  y=y+1"
      ],
      "metadata": {
        "colab": {
          "base_uri": "https://localhost:8080/"
        },
        "id": "TWWNgAhsJrud",
        "outputId": "3fb9a323-4522-4936-ff29-1aaf84a4fab5"
      },
      "execution_count": null,
      "outputs": [
        {
          "output_type": "stream",
          "name": "stdout",
          "text": [
            "enter a number: 4\n",
            "the multiplication table of 4 upto 10 multiples is given by:\n",
            "4*1=4\n",
            "4*2=8\n",
            "4*3=12\n",
            "4*4=16\n",
            "4*5=20\n",
            "4*6=24\n",
            "4*7=28\n",
            "4*8=32\n",
            "4*9=36\n",
            "4*10=40\n"
          ]
        }
      ]
    },
    {
      "cell_type": "code",
      "source": [
        "#6 write a python program ehich iterates the integers from 1 to 60. for multiples of three print \"fizz\" instead of the number and for the\n",
        "x=1\n",
        "while x<=60:\n",
        "  if x%3==0 and x%5==0:\n",
        "    print(\"fizzbuzz\")\n",
        "  elif x%3==0:\n",
        "    print(\"fizz\")\n",
        "  elif x%5==0:\n",
        "    print(\"buzz\")\n",
        "  else:\n",
        "    print(x)\n",
        "  x=x+1"
      ],
      "metadata": {
        "colab": {
          "base_uri": "https://localhost:8080/"
        },
        "id": "W32XVGN5NSCA",
        "outputId": "be4b50fc-c108-409d-8af6-1e44405d9ce5"
      },
      "execution_count": null,
      "outputs": [
        {
          "output_type": "stream",
          "name": "stdout",
          "text": [
            "1\n",
            "2\n",
            "fizz\n",
            "4\n",
            "buzz\n",
            "fizz\n",
            "7\n",
            "8\n",
            "fizz\n",
            "buzz\n",
            "11\n",
            "fizz\n",
            "13\n",
            "14\n",
            "fizzbuzz\n",
            "16\n",
            "17\n",
            "fizz\n",
            "19\n",
            "buzz\n",
            "fizz\n",
            "22\n",
            "23\n",
            "fizz\n",
            "buzz\n",
            "26\n",
            "fizz\n",
            "28\n",
            "29\n",
            "fizzbuzz\n",
            "31\n",
            "32\n",
            "fizz\n",
            "34\n",
            "buzz\n",
            "fizz\n",
            "37\n",
            "38\n",
            "fizz\n",
            "buzz\n",
            "41\n",
            "fizz\n",
            "43\n",
            "44\n",
            "fizzbuzz\n",
            "46\n",
            "47\n",
            "fizz\n",
            "49\n",
            "buzz\n",
            "fizz\n",
            "52\n",
            "53\n",
            "fizz\n",
            "buzz\n",
            "56\n",
            "fizz\n",
            "58\n",
            "59\n",
            "fizzbuzz\n"
          ]
        }
      ]
    },
    {
      "cell_type": "code",
      "source": [
        "#10 write a program which takes 10 integers as input using loop and print their average value on the screen\n",
        "x=0\n",
        "sum=0\n",
        "while x<10:\n",
        "  y=int(input(\"enter an integer: \"))\n",
        "  sum=sum+y\n",
        "  x=x+1\n",
        "  print(\"avg of the entered integer:{}\".format(sum/x))"
      ],
      "metadata": {
        "colab": {
          "base_uri": "https://localhost:8080/"
        },
        "id": "qJt-doeeS9De",
        "outputId": "faf2f729-08df-42e0-b893-f2bed0396f28"
      },
      "execution_count": null,
      "outputs": [
        {
          "output_type": "stream",
          "name": "stdout",
          "text": [
            "enter an integer: 4\n",
            "avg of the entered integer:4.0\n",
            "enter an integer: 6\n",
            "avg of the entered integer:5.0\n",
            "enter an integer: 56\n",
            "avg of the entered integer:22.0\n",
            "enter an integer: 9\n",
            "avg of the entered integer:18.75\n",
            "enter an integer: 34\n",
            "avg of the entered integer:21.8\n",
            "enter an integer: 23\n",
            "avg of the entered integer:22.0\n",
            "enter an integer: 67\n",
            "avg of the entered integer:28.428571428571427\n",
            "enter an integer: 49\n",
            "avg of the entered integer:31.0\n",
            "enter an integer: 45\n",
            "avg of the entered integer:32.55555555555556\n",
            "enter an integer: 3\n",
            "avg of the entered integer:29.6\n"
          ]
        }
      ]
    },
    {
      "cell_type": "code",
      "source": [
        "#13 write a python program to find sum of all even numbers from 0 to 10\n",
        "x=0\n",
        "sum=0\n",
        "while x<=10:\n",
        " sum=sum+x\n",
        " x=x+2\n",
        " print(\"sum of all even numbers from 0 to 10 is : {}\".format(sum))\n"
      ],
      "metadata": {
        "colab": {
          "base_uri": "https://localhost:8080/"
        },
        "id": "dwBpkK9YQpbM",
        "outputId": "d6441c0a-f48a-4488-bc48-f22cc08af911"
      },
      "execution_count": null,
      "outputs": [
        {
          "output_type": "stream",
          "name": "stdout",
          "text": [
            "sum of all even numbers from 0 to 10 is : 0\n",
            "sum of all even numbers from 0 to 10 is : 2\n",
            "sum of all even numbers from 0 to 10 is : 6\n",
            "sum of all even numbers from 0 to 10 is : 12\n",
            "sum of all even numbers from 0 to 10 is : 20\n",
            "sum of all even numbers from 0 to 10 is : 30\n"
          ]
        }
      ]
    }
  ]
}