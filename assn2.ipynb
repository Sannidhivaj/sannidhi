{
  "nbformat": 4,
  "nbformat_minor": 0,
  "metadata": {
    "colab": {
      "provenance": []
    },
    "kernelspec": {
      "name": "python3",
      "display_name": "Python 3"
    },
    "language_info": {
      "name": "python"
    }
  },
  "cells": [
    {
      "cell_type": "markdown",
      "source": [
        "ASSIGNMENT 2"
      ],
      "metadata": {
        "id": "bx_-pvsBcThm"
      }
    },
    {
      "cell_type": "code",
      "source": [
        "#1 write a program to accept two numbers from the user and calculate multiplication division\n",
        "num1 =int(input(\"enter a number:\"))\n",
        "symbol =input(\"enter a symbol *,/,*&/\")\n",
        "num2 =int(input(\"enter a number:\"))\n",
        "if symbol=='*':\n",
        "  print(num1*num2)\n",
        "elif symbol=='/':\n",
        "  print(num1/num2)\n",
        "elif symbol=='*&/':\n",
        "  print(num1*num2, num1/num2)\n",
        "else:\n",
        "  print('not defined')"
      ],
      "metadata": {
        "colab": {
          "base_uri": "https://localhost:8080/"
        },
        "id": "xp_Eh-kNcrvt",
        "outputId": "09804c99-dfb4-4ae7-98fa-251d8da8e647"
      },
      "execution_count": null,
      "outputs": [
        {
          "output_type": "stream",
          "name": "stdout",
          "text": [
            "enter a number:35\n",
            "enter a symbol *,/,*&/*&/\n",
            "enter a number:5\n",
            "175 7.0\n"
          ]
        }
      ]
    },
    {
      "cell_type": "code",
      "source": [
        "#2 write a program to print the characters from a srting that are present at an even index\n",
        "x=input(\"enter any string:\")\n",
        "y=0\n",
        "z=''\n",
        "while y<len(x):\n",
        "   z=z+x[y]\n",
        "   y=y+2\n",
        "print(\"characters of even index: \",z)"
      ],
      "metadata": {
        "colab": {
          "base_uri": "https://localhost:8080/"
        },
        "id": "mfR0NKktjNK3",
        "outputId": "9cfacc30-26e0-473f-e0c7-e3cdd562c685"
      },
      "execution_count": null,
      "outputs": [
        {
          "output_type": "stream",
          "name": "stdout",
          "text": [
            "enter any string:sannidhi\n",
            "characters of even index:  snih\n"
          ]
        }
      ]
    },
    {
      "cell_type": "code",
      "source": [
        "#3 write a program to print the characters from a string that are present at an odd index\n",
        "z=input(\"enter a string: \")\n",
        "y=1\n",
        "var=''\n",
        "while y<len(z):\n",
        "  var=var+z[y]\n",
        "  y=y+2\n",
        "print(\"characters of odd index: \",var)\n"
      ],
      "metadata": {
        "colab": {
          "base_uri": "https://localhost:8080/"
        },
        "id": "V0EUxSf1rH9i",
        "outputId": "1fc46db5-271b-499a-e43d-d80c2f1fac97"
      },
      "execution_count": null,
      "outputs": [
        {
          "output_type": "stream",
          "name": "stdout",
          "text": [
            "enter a string: python\n",
            "characters of odd index:  yhn\n"
          ]
        }
      ]
    },
    {
      "cell_type": "code",
      "source": [
        "#4 write a python program which will print the sum of the two numbers are even or it will print the diffence of two\n",
        "n1= int(input(\"enter a number: \"))\n",
        "n2= int(input(\"enter another number: \"))\n",
        "if n1%2==0 and n2%2==0:\n",
        "  print(\"the sum of numbers is{}\".format(n1+n2))\n",
        "else:\n",
        "  print(\"the difference is {}\".format(n1-n2))"
      ],
      "metadata": {
        "colab": {
          "base_uri": "https://localhost:8080/"
        },
        "id": "YTW6iaB1q-pk",
        "outputId": "80f02d24-ae59-4733-960d-bf12e4faed70"
      },
      "execution_count": null,
      "outputs": [
        {
          "output_type": "stream",
          "name": "stdout",
          "text": [
            "enter a number: 35\n",
            "enter another number: 46\n",
            "the difference is -11\n"
          ]
        }
      ]
    },
    {
      "cell_type": "code",
      "source": [
        "#5 write a python program to convert all even indexed characters to uppercase and odd indexed characteers to lowercase\n",
        "str=input(\"enter a string: \")\n",
        "y=0\n",
        "var=''\n",
        "while y<len(str):\n",
        "  if y%2==0:\n",
        "    var=var+str[y].upper()\n",
        "  else:\n",
        "    var=var+str[y].lower()\n",
        "  y=y+1"
      ],
      "metadata": {
        "colab": {
          "base_uri": "https://localhost:8080/"
        },
        "id": "lACqA31wCIH7",
        "outputId": "4caae0a3-ac76-4acb-90ad-fe16a6c67170"
      },
      "execution_count": null,
      "outputs": [
        {
          "name": "stdout",
          "output_type": "stream",
          "text": [
            "enter a string: sannidhi\n"
          ]
        }
      ]
    },
    {
      "cell_type": "code",
      "source": [
        "#6 write a python program which will print true if the input number is divisible by 5 or else false\n",
        "nu=int(input(\"enter a number:\"))\n",
        "if nu%5==0:\n",
        "  print(\"true\")\n",
        "else:\n",
        "  print(\"false\")"
      ],
      "metadata": {
        "colab": {
          "base_uri": "https://localhost:8080/"
        },
        "id": "ki5eLzJ2Dp7M",
        "outputId": "93a9cab4-95a0-41b6-dc47-2b8706d55dc3"
      },
      "execution_count": null,
      "outputs": [
        {
          "output_type": "stream",
          "name": "stdout",
          "text": [
            "enter a number:5760\n",
            "true\n"
          ]
        }
      ]
    },
    {
      "cell_type": "code",
      "source": [
        "#7 given 2 integers return their product only if the product is greater than 1000, else return their sum\n",
        "m1=int(input(\"enter 1st number:\"))\n",
        "m2=int(input(\"enter 2nd number:\"))\n",
        "if m1*m2>1000:\n",
        "  print(\"the product of numbers is {}\".format(m1*m2))\n",
        "else:\n",
        "  print(\"the sum of numbers is {}\".format(m1+m2))"
      ],
      "metadata": {
        "colab": {
          "base_uri": "https://localhost:8080/"
        },
        "id": "_YP6U0wHEfRp",
        "outputId": "4b4b25fe-da1f-46c9-8faa-bca16fe095b5"
      },
      "execution_count": null,
      "outputs": [
        {
          "output_type": "stream",
          "name": "stdout",
          "text": [
            "enter 1st number:34\n",
            "enter 2nd number:35\n",
            "the product of numbers is 1190\n"
          ]
        }
      ]
    },
    {
      "cell_type": "code",
      "source": [
        "#9 write a program to take three names as input from a user in the single input() function cell\n",
        "x=1\n",
        "while x<=3:\n",
        "  str=input(\"enter a name:\")\n",
        "  x=x+1"
      ],
      "metadata": {
        "colab": {
          "base_uri": "https://localhost:8080/"
        },
        "id": "KK5JngdBGsd4",
        "outputId": "9ed5d3b0-73ad-4ce8-f06b-d40efd321daa"
      },
      "execution_count": null,
      "outputs": [
        {
          "name": "stdout",
          "output_type": "stream",
          "text": [
            "enter a name:sannidhi\n",
            "enter a name:baachi\n",
            "enter a name:malli\n"
          ]
        }
      ]
    },
    {
      "cell_type": "code",
      "source": [
        "#12 write a python program that accepts two inputs num1 and num2 print true if one of them is 10 or if the sum is 10 otherwise print false\n",
        "x1=int(input(\"enter 1st number:\"))\n",
        "x2=int(input(\"enter 2nd number:\"))\n",
        "if x1==10 or x2==10 or x1+x2==10:\n",
        "  print(\"true\")\n",
        "else:\n",
        "  print(\"false\")\n"
      ],
      "metadata": {
        "colab": {
          "base_uri": "https://localhost:8080/"
        },
        "id": "FIWKxdbcJcT9",
        "outputId": "6146eb7f-a706-41e8-8fee-0244d9c86c14"
      },
      "execution_count": null,
      "outputs": [
        {
          "output_type": "stream",
          "name": "stdout",
          "text": [
            "enter 1st number:5\n",
            "enter 2nd number:5\n",
            "true\n"
          ]
        }
      ]
    },
    {
      "cell_type": "code",
      "source": [
        "#13 write a program that accepts three inputs x,y and z print true if x*y>z otherwise false\n",
        "x=int(input(\"enter 1st number:\"))\n",
        "y=int(input(\"enter 2nd number:\"))\n",
        "z=int(input(\"enter 3rd number:\"))\n",
        "if x*y>z:\n",
        "  print(\"true\")\n",
        "else:\n",
        "  print(\"false\")"
      ],
      "metadata": {
        "colab": {
          "base_uri": "https://localhost:8080/"
        },
        "id": "dWd-vQnKKsDS",
        "outputId": "84cd0bb1-c613-4cb2-8f55-ac7f2df87e7e"
      },
      "execution_count": null,
      "outputs": [
        {
          "output_type": "stream",
          "name": "stdout",
          "text": [
            "enter 1st number:34\n",
            "enter 2nd number:12\n",
            "enter 3rd number:43\n",
            "true\n"
          ]
        }
      ]
    },
    {
      "cell_type": "code",
      "source": [
        "#14 write a program that accepts two strings inputs return true depending on whether the total number of characters in first string is equal to the total number of characters is the second string\n",
        "str1=input(\"enter 1st string: \")\n",
        "str2=input(\"enter 2nd string: \")\n",
        "if len(str1)==len(str2):\n",
        "  print(\"true\")\n",
        "else:\n",
        "  print(\"false\")"
      ],
      "metadata": {
        "colab": {
          "base_uri": "https://localhost:8080/"
        },
        "id": "FhcwYUUuL7lD",
        "outputId": "5a369b6b-5a7b-40fe-b17a-cd4f3b983107"
      },
      "execution_count": null,
      "outputs": [
        {
          "output_type": "stream",
          "name": "stdout",
          "text": [
            "enter 1st string: salar\n",
            "enter 2nd string: sahoo\n",
            "true\n"
          ]
        }
      ]
    },
    {
      "cell_type": "code",
      "source": [
        "#15 write a program that takes string input,we'll say that the front is the first three characters of the string. if the string length is less than 3 characters, the front is whateveris there. Return a new string, which is three copies of the front\n",
        "str=input(\"enter a string: \")\n",
        "if len(str)<3:\n",
        "  print(str)\n",
        "else:\n",
        "  print(str[0:3]*3)"
      ],
      "metadata": {
        "colab": {
          "base_uri": "https://localhost:8080/"
        },
        "id": "AHTwv7nIOBRJ",
        "outputId": "7440ee60-9a37-4cb5-8b9b-4bdfd9d5f51e"
      },
      "execution_count": null,
      "outputs": [
        {
          "output_type": "stream",
          "name": "stdout",
          "text": [
            "enter a string: summer\n",
            "sumsumsum\n"
          ]
        }
      ]
    },
    {
      "cell_type": "code",
      "source": [
        "#16 write a python program that takes in a word and determines whether or not it is a plular. a plular word is one that ends in \"s\"\n",
        "m1=input(\"enter a word:\")\n",
        "if m1[-1]==\"s\":\n",
        "  print(\"the word is plular\")\n",
        "else:\n",
        "  print(\"the word is singular\")\n"
      ],
      "metadata": {
        "colab": {
          "base_uri": "https://localhost:8080/"
        },
        "id": "kvvrEGfJQoiq",
        "outputId": "9d0c4bec-8ca1-446e-b00b-5c72f2574236"
      },
      "execution_count": null,
      "outputs": [
        {
          "output_type": "stream",
          "name": "stdout",
          "text": [
            "enter a word:strings\n",
            "the word is plular\n"
          ]
        }
      ]
    },
    {
      "cell_type": "code",
      "source": [
        "#17 a bartender is writing a simple program to determine whether he should serve drinks to someone. he only serves drinks to people 18 and older and when he's not on break. given the person's age, and whether he should serve drinks or not.\n",
        "x=int(input(\"enter the age: \"))\n",
        "if x>=18:\n",
        "  print(\"serve the drinks\")\n",
        "else:\n",
        "  print(\"do not serve the drinks\")"
      ],
      "metadata": {
        "colab": {
          "base_uri": "https://localhost:8080/"
        },
        "id": "j5jwkY1WSzyi",
        "outputId": "97995c64-8368-4dc0-82f2-60c8ff5f17f3"
      },
      "execution_count": null,
      "outputs": [
        {
          "output_type": "stream",
          "name": "stdout",
          "text": [
            "enter the age: 14\n",
            "do not serve the drinks\n"
          ]
        }
      ]
    },
    {
      "cell_type": "code",
      "source": [
        "#20 create a dynamic calculator which asks for numbers and operator and return the answers\n",
        "num1=int(input(\"enter a number: \"))\n",
        "symbol=input(\"enter a symbol +,-,*,/,%,**\")\n",
        "num2=int(input(\"enter a number: \"))\n",
        "\n",
        "if symbol==\"+\":\n",
        "  print(num1+num2)\n",
        "elif symbol==\"-\":\n",
        "  print(num1-num2)\n",
        "elif symbol==\"*\":\n",
        "  print(num1*num2)\n",
        "elif symbol==\"/\":\n",
        "  print(num1/num2)\n",
        "elif symbol==\"%\":\n",
        "  print(num1%num2)\n",
        "else:\n",
        "  print(num1**num2)\n",
        "\n"
      ],
      "metadata": {
        "colab": {
          "base_uri": "https://localhost:8080/"
        },
        "id": "rSTZ3oRrVKlu",
        "outputId": "c8d17218-6bb2-40aa-c46d-f26deba7d191"
      },
      "execution_count": null,
      "outputs": [
        {
          "output_type": "stream",
          "name": "stdout",
          "text": [
            "enter a number: 45\n",
            "enter a symbol +,-,*,/,%,**/\n",
            "enter a number: 5\n",
            "9.0\n"
          ]
        }
      ]
    },
    {
      "cell_type": "code",
      "source": [],
      "metadata": {
        "id": "OYTjQB2tQWgZ"
      },
      "execution_count": null,
      "outputs": []
    },
    {
      "cell_type": "code",
      "source": [],
      "metadata": {
        "id": "mlufR1qnN49l"
      },
      "execution_count": null,
      "outputs": []
    }
  ]
}