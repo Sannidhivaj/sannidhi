{
  "nbformat": 4,
  "nbformat_minor": 0,
  "metadata": {
    "colab": {
      "provenance": []
    },
    "kernelspec": {
      "name": "python3",
      "display_name": "Python 3"
    },
    "language_info": {
      "name": "python"
    }
  },
  "cells": [
    {
      "cell_type": "code",
      "execution_count": 1,
      "metadata": {
        "id": "Q4Kujx5iewU0",
        "colab": {
          "base_uri": "https://localhost:8080/"
        },
        "outputId": "a73ffefa-8382-4704-b476-a27a30571ab9"
      },
      "outputs": [
        {
          "output_type": "stream",
          "name": "stdout",
          "text": [
            "1\n",
            "2\n",
            "3\n",
            "4\n",
            "5\n",
            "6\n"
          ]
        }
      ],
      "source": [
        "#1 Write a Python program to loop through all the elements in a list. input:[1,2,3,4,5,6]\n",
        "x=[1,2,3,4,5,6]\n",
        "for y in x:\n",
        "  print(y)\n",
        ""
      ]
    },
    {
      "cell_type": "code",
      "source": [
        "#3 Write a Python program to remove all the odd index value from a list and only even index elements should remain Ex: Input: [1,2,3,4,5,6,7,”a”] Output: [1,3,5,7]\n",
        "x=[1,2,3,4,5,6,7,\"a\"]\n",
        "z=[]\n",
        "i=0\n",
        "while i<=6:\n",
        "  if i%2==0:\n",
        "    a=x[i]\n",
        "    z.append(a)\n",
        "  i=i+1\n",
        "print(z)\n"
      ],
      "metadata": {
        "colab": {
          "base_uri": "https://localhost:8080/"
        },
        "id": "Kj1CpCc8iS0W",
        "outputId": "b3400206-771b-4f58-a600-a587f2ae802c"
      },
      "execution_count": 2,
      "outputs": [
        {
          "output_type": "stream",
          "name": "stdout",
          "text": [
            "[1, 3, 5, 7]\n"
          ]
        }
      ]
    },
    {
      "cell_type": "code",
      "source": [
        "#4 Write a Python program to sum and multiply all the items in a list Ex: Input: [1,2,3,4] Output: sum: -10 Product: -24\n",
        "y=[]\n",
        "sum=0\n",
        "product=1\n",
        "for z in range(0,4):\n",
        "  ele=int(input(\"element:\"))\n",
        "  y.append(ele)\n",
        "  sum=sum+ele\n",
        "  product=product*ele\n",
        "print(y)\n",
        "print(\"sum=\",sum)\n",
        "print(\"product=\",product)"
      ],
      "metadata": {
        "colab": {
          "base_uri": "https://localhost:8080/"
        },
        "id": "fE7FvJaKiy_p",
        "outputId": "faff8310-f1e8-4ea6-c460-58e78a5694b8"
      },
      "execution_count": 6,
      "outputs": [
        {
          "output_type": "stream",
          "name": "stdout",
          "text": [
            "element:1\n",
            "element:2\n",
            "element:3\n",
            "element:4\n",
            "[1, 2, 3, 4]\n",
            "sum= 10\n",
            "product= 24\n"
          ]
        }
      ]
    },
    {
      "cell_type": "code",
      "source": [
        "#5 maximum number in list\n",
        "x=[]\n",
        "for y in range(0,5):\n",
        "  ele=int(input(\"enter ele:\"))\n",
        "  x.append(ele)\n",
        "print(x)\n",
        "if x[0]>x[1] and x[0]>x[2] and x[0]>x[3] and x[0]>x[4] :\n",
        "    print(\"max=\",x[0])\n",
        "elif x[1]>x[0] and x[1]>x[2] and x[1]>x[3] and x[1]>x[4] :\n",
        "    print(\"max=\",x[1])\n",
        "elif x[2]>x[1] and x[2]>x[0] and x[2]>x[3] and x[2]>x[4] :\n",
        "    print(\"max=\",x[2])\n",
        "elif x[3]>x[1] and x[3]>x[2] and x[3]>x[0] and x[3]>x[4] :\n",
        "    print(\"max=\",x[3])\n",
        "else:\n",
        "    print(\"max\",x[4])"
      ],
      "metadata": {
        "colab": {
          "base_uri": "https://localhost:8080/"
        },
        "id": "t_toyGWbrrN6",
        "outputId": "efc349be-c1bd-4695-e354-70f30d422a6a"
      },
      "execution_count": 24,
      "outputs": [
        {
          "output_type": "stream",
          "name": "stdout",
          "text": [
            "enter ele:8\n",
            "enter ele:4\n",
            "enter ele:11\n",
            "enter ele:7\n",
            "enter ele:90\n",
            "[8, 4, 11, 7, 90]\n",
            "max 90\n"
          ]
        }
      ]
    },
    {
      "cell_type": "code",
      "source": [
        "#5 minimum number in a list\n",
        "x=[]\n",
        "for y in range(0,5):\n",
        "  ele=int(input(\"enter ele:\"))\n",
        "  x.append(ele)\n",
        "print(x)\n",
        "if x[0]<x[1] and x[0]<x[2] and x[0]<x[3] and x[0]<x[4] :\n",
        "    print(\"min=\",x[0])\n",
        "elif x[1]<x[0] and x[1]<x[2] and x[1]<x[3] and x[1]<x[4] :\n",
        "    print(\"min=\",x[1])\n",
        "elif x[2]<x[1] and x[2]<x[0] and x[2]<x[3] and x[2]<x[4] :\n",
        "    print(\"min=\",x[2])\n",
        "elif x[3]<x[1] and x[3]<x[2] and x[3]<x[0] and x[3]<x[4] :\n",
        "    print(\"min=\",x[3])\n",
        "else:\n",
        "    print(\"min\",x[4])"
      ],
      "metadata": {
        "colab": {
          "base_uri": "https://localhost:8080/"
        },
        "id": "j1ImI9_mOpvC",
        "outputId": "c5e5e5e5-3cd0-4605-dac1-2e5d4acbd8eb"
      },
      "execution_count": 25,
      "outputs": [
        {
          "output_type": "stream",
          "name": "stdout",
          "text": [
            "enter ele:8\n",
            "enter ele:4\n",
            "enter ele:11\n",
            "enter ele:7\n",
            "enter ele:90\n",
            "[8, 4, 11, 7, 90]\n",
            "min= 4\n"
          ]
        }
      ]
    },
    {
      "cell_type": "code",
      "source": [
        "#6 Write a Python program to print a specified list after removing the 0th, 4th and 5th elements.\n",
        "x=[\"red\",\"green\",\"white\",\"black\",\"yellow\",\"pink\"]\n",
        "if x[0]:\n",
        "  x.pop(0)\n",
        "if x[4]:\n",
        "  x.pop(4)\n",
        "if x[3]:\n",
        "  x.pop(3)\n",
        "print(x)"
      ],
      "metadata": {
        "colab": {
          "base_uri": "https://localhost:8080/"
        },
        "id": "BmJxNm7T5b7j",
        "outputId": "81228ae3-8f3e-4663-d4fc-353b45a6f104"
      },
      "execution_count": 14,
      "outputs": [
        {
          "output_type": "stream",
          "name": "stdout",
          "text": [
            "['green', 'white', 'black']\n"
          ]
        }
      ]
    },
    {
      "cell_type": "code",
      "source": [
        "#7 Write a Python program to convert a list of characters into a string.\n",
        "x=['p','y','t','h','o','n']\n",
        "z=\"\"\n",
        "for y in x:\n",
        "  z=z+str(y)\n",
        "print(z)"
      ],
      "metadata": {
        "colab": {
          "base_uri": "https://localhost:8080/"
        },
        "id": "9lIDhbXg7bXx",
        "outputId": "25510b4c-1a9d-4a04-8378-67cf9f2bd2bd"
      },
      "execution_count": 15,
      "outputs": [
        {
          "output_type": "stream",
          "name": "stdout",
          "text": [
            "python\n"
          ]
        }
      ]
    },
    {
      "cell_type": "code",
      "source": [
        "#8 Write a Python program to compute average of given lists.\n",
        "x=[1,2,3,4]\n",
        "y=[10,20,30,40]\n",
        "p=x+y\n",
        "sum=0\n",
        "avg=1\n",
        "for a in p:\n",
        "  sum=sum+int(a)\n",
        "avg=sum/len(p)\n",
        "print(avg)"
      ],
      "metadata": {
        "colab": {
          "base_uri": "https://localhost:8080/"
        },
        "id": "k7QrfMOm8Msa",
        "outputId": "2d0c18f2-2468-443d-dc37-834ece1934f0"
      },
      "execution_count": 17,
      "outputs": [
        {
          "output_type": "stream",
          "name": "stdout",
          "text": [
            "13.75\n"
          ]
        }
      ]
    },
    {
      "cell_type": "code",
      "source": [
        "#9.Write a python program to count integers in a given mixed list.\n",
        "x= [10,\"a\",2,3,5.5,1.34,\"abc\",\"rt\"]\n",
        "z=0\n",
        "for y in x:\n",
        "  if isinstance(y,int):\n",
        "    z=z+1\n",
        "print(\"integers:\",z)"
      ],
      "metadata": {
        "colab": {
          "base_uri": "https://localhost:8080/"
        },
        "id": "R6T3CQsCKWH3",
        "outputId": "0d932715-8ace-49a2-fffa-ae2ff8f7ddc2"
      },
      "execution_count": 22,
      "outputs": [
        {
          "output_type": "stream",
          "name": "stdout",
          "text": [
            "integers: 3\n"
          ]
        }
      ]
    },
    {
      "cell_type": "code",
      "source": [
        "#10.Write a python program to reverse a given list.\n",
        "x=[\"a\",\"b\",\"c\",1,2,3]\n",
        "y=[]\n",
        "i=-1\n",
        "for a in x:\n",
        "  y.insert(i,a)\n",
        "  i=i-1\n",
        "print(y)"
      ],
      "metadata": {
        "colab": {
          "base_uri": "https://localhost:8080/"
        },
        "id": "yHe_ol1ZLi5w",
        "outputId": "b361d973-5284-44f5-8b91-aa54f697efb6"
      },
      "execution_count": 19,
      "outputs": [
        {
          "output_type": "stream",
          "name": "stdout",
          "text": [
            "[3, 2, 1, 'c', 'b', 'a']\n"
          ]
        }
      ]
    },
    {
      "cell_type": "code",
      "source": [
        "#11.Write a python program to constuct a given string to a tuple\n",
        "x=\"python1.2\"\n",
        "z=\"\"\n",
        "for y in x:\n",
        "  z=z+y\n",
        "  a=tuple(z)\n",
        "print(a)"
      ],
      "metadata": {
        "colab": {
          "base_uri": "https://localhost:8080/"
        },
        "id": "gyYNrsDVMQOe",
        "outputId": "f8a05404-b53b-446a-aadb-5b6fbe4bcc36"
      },
      "execution_count": 20,
      "outputs": [
        {
          "output_type": "stream",
          "name": "stdout",
          "text": [
            "('p', 'y', 't', 'h', 'o', 'n', '1', '.', '2')\n"
          ]
        }
      ]
    }
  ]
}