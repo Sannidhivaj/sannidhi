{
  "nbformat": 4,
  "nbformat_minor": 0,
  "metadata": {
    "colab": {
      "provenance": []
    },
    "kernelspec": {
      "name": "python3",
      "display_name": "Python 3"
    },
    "language_info": {
      "name": "python"
    }
  },
  "cells": [
    {
      "cell_type": "markdown",
      "source": [
        "date: 13-08-23                                       ASSIGNMENT-*1*"
      ],
      "metadata": {
        "id": "-mYbUfnhhblR"
      }
    },
    {
      "cell_type": "code",
      "source": [
        "#1. write a python program to convert a string to lower case\n",
        "x=\"COMPUTER\"\n",
        "x.lower()"
      ],
      "metadata": {
        "colab": {
          "base_uri": "https://localhost:8080/",
          "height": 35
        },
        "id": "o6UaIVMBiKDN",
        "outputId": "9aacf1b4-36ce-455d-fc8f-9e4c75e16b61"
      },
      "execution_count": null,
      "outputs": [
        {
          "output_type": "execute_result",
          "data": {
            "text/plain": [
              "'computer'"
            ],
            "application/vnd.google.colaboratory.intrinsic+json": {
              "type": "string"
            }
          },
          "metadata": {},
          "execution_count": 1
        }
      ]
    },
    {
      "cell_type": "code",
      "source": [
        "#2. write a python program to convert only odd indexed characters to lower case\n",
        "x=\"COMPUTER\"\n",
        "x[0]+x[1].lower()+x[2]+x[3].lower()+x[4]+x[5].lower()+x[6]+x[7].lower()"
      ],
      "metadata": {
        "colab": {
          "base_uri": "https://localhost:8080/",
          "height": 35
        },
        "id": "djOAQIqrjAWl",
        "outputId": "77de2f5c-15d4-4a52-bc61-c78e045ddabd"
      },
      "execution_count": null,
      "outputs": [
        {
          "output_type": "execute_result",
          "data": {
            "text/plain": [
              "'CoMpUtEr'"
            ],
            "application/vnd.google.colaboratory.intrinsic+json": {
              "type": "string"
            }
          },
          "metadata": {},
          "execution_count": 3
        }
      ]
    },
    {
      "cell_type": "code",
      "source": [
        "#3. write a python program to convert only even indexed characters to lower case\n",
        "x=\"COMPUTER\"\n",
        "x[0].lower()+x[1]+x[2].lower()+x[3]+x[4].lower()+x[5]+x[6].lower()+x[7]"
      ],
      "metadata": {
        "colab": {
          "base_uri": "https://localhost:8080/",
          "height": 35
        },
        "id": "8D3As79clv-i",
        "outputId": "1f47b98f-356d-4c58-f37d-9adb69504bc5"
      },
      "execution_count": null,
      "outputs": [
        {
          "output_type": "execute_result",
          "data": {
            "text/plain": [
              "'cOmPuTeR'"
            ],
            "application/vnd.google.colaboratory.intrinsic+json": {
              "type": "string"
            }
          },
          "metadata": {},
          "execution_count": 5
        }
      ]
    },
    {
      "cell_type": "code",
      "execution_count": null,
      "metadata": {
        "colab": {
          "base_uri": "https://localhost:8080/",
          "height": 35
        },
        "id": "OuqqY8blhZTk",
        "outputId": "61ca66e2-c19c-473a-af27-0f4e589920c2"
      },
      "outputs": [
        {
          "output_type": "execute_result",
          "data": {
            "text/plain": [
              "'cOmPuTeR'"
            ],
            "application/vnd.google.colaboratory.intrinsic+json": {
              "type": "string"
            }
          },
          "metadata": {},
          "execution_count": 6
        }
      ],
      "source": [
        "#4. write a python program to convert only odd index characters to upper case\n",
        "x=\"computer\"\n",
        "x[0]+x[1].upper()+x[2]+x[3].upper()+x[4]+x[5].upper()+x[6]+x[7].upper()"
      ]
    },
    {
      "cell_type": "code",
      "source": [
        "#5. write a program to convert only even indexed characters to upper case\n",
        "x=\"computer\"\n",
        "x[0].upper()+x[1]+x[2].upper()+x[3]+x[4].upper()+x[5]+x[6].upper()+x[7]"
      ],
      "metadata": {
        "colab": {
          "base_uri": "https://localhost:8080/",
          "height": 35
        },
        "id": "FqJHl8n0pjBM",
        "outputId": "f079a387-390c-4744-9800-88d997d393d3"
      },
      "execution_count": null,
      "outputs": [
        {
          "output_type": "execute_result",
          "data": {
            "text/plain": [
              "'CoMpUtEr'"
            ],
            "application/vnd.google.colaboratory.intrinsic+json": {
              "type": "string"
            }
          },
          "metadata": {},
          "execution_count": 7
        }
      ]
    },
    {
      "cell_type": "code",
      "source": [
        "#6. write a python where you have different variable which contains your name,sex,age,phone no,fathers name and mothers name\n",
        "name=input(\"enter your name:\")\n",
        "age=input(\"enter your age:\")\n",
        "phone_no=input(\"enter your phone_no:\")\n",
        "father_name=input(\"enter your father name:\")\n",
        "mother_name=input(\"enter your mother name:\")"
      ],
      "metadata": {
        "colab": {
          "base_uri": "https://localhost:8080/"
        },
        "id": "gMSc0wt4r-KB",
        "outputId": "48269456-6eb8-4a65-f837-7218d4972656"
      },
      "execution_count": null,
      "outputs": [
        {
          "name": "stdout",
          "output_type": "stream",
          "text": [
            "enter your name:sannidhi\n",
            "enter your age:19\n",
            "enter your phone_no:6347873248\n",
            "enter your father name:satyanarayana\n",
            "enter your mother name:varalakshmi\n"
          ]
        }
      ]
    },
    {
      "cell_type": "code",
      "source": [
        "#7. write a python program to count how many times \"@\" occured\n",
        "x=\"fwye@@@2@hfhewuf@22rrfhr@\"\n",
        "x.count(\"@\")"
      ],
      "metadata": {
        "colab": {
          "base_uri": "https://localhost:8080/"
        },
        "id": "VhVSVypwvaKK",
        "outputId": "c97b5511-d346-410d-ad04-f8cdfa49d554"
      },
      "execution_count": null,
      "outputs": [
        {
          "output_type": "execute_result",
          "data": {
            "text/plain": [
              "6"
            ]
          },
          "metadata": {},
          "execution_count": 9
        }
      ]
    },
    {
      "cell_type": "code",
      "source": [
        "#8. write a python program to get only names from the string\n",
        "x=\"seeta-class9,neha-class9,ravi-class9\"\n",
        "x.replace(\"-class9\",\"\")"
      ],
      "metadata": {
        "colab": {
          "base_uri": "https://localhost:8080/",
          "height": 35
        },
        "id": "vhz1C7RGwLNW",
        "outputId": "31a219cd-4a0e-4d5b-e27d-0ce1e4220998"
      },
      "execution_count": null,
      "outputs": [
        {
          "output_type": "execute_result",
          "data": {
            "text/plain": [
              "'seeta,neha,ravi'"
            ],
            "application/vnd.google.colaboratory.intrinsic+json": {
              "type": "string"
            }
          },
          "metadata": {},
          "execution_count": 10
        }
      ]
    },
    {
      "cell_type": "code",
      "source": [
        "#9. write a string of odd length greater than 9,return a new string made of the middle three characters of given string\n",
        "x=\"chinnbaachi\"\n",
        "x[4:7]"
      ],
      "metadata": {
        "colab": {
          "base_uri": "https://localhost:8080/",
          "height": 35
        },
        "id": "LwGw3K56wyYb",
        "outputId": "bb123f2a-5b26-4e3c-e3ff-0e4fd45dbedc"
      },
      "execution_count": null,
      "outputs": [
        {
          "output_type": "execute_result",
          "data": {
            "text/plain": [
              "'nba'"
            ],
            "application/vnd.google.colaboratory.intrinsic+json": {
              "type": "string"
            }
          },
          "metadata": {},
          "execution_count": 11
        }
      ]
    },
    {
      "cell_type": "code",
      "source": [
        "#10. write a python program to insert a 2 string in the middle of 1 string\n",
        "x=\"drinks cool\"\n",
        "y=x.replace(\" \",\"are\")\n",
        "print(y)"
      ],
      "metadata": {
        "colab": {
          "base_uri": "https://localhost:8080/"
        },
        "id": "AT9I4907yKef",
        "outputId": "6f7fe35e-b2cd-4bab-df8e-a8b0421acfed"
      },
      "execution_count": null,
      "outputs": [
        {
          "output_type": "stream",
          "name": "stdout",
          "text": [
            "drinksarecool\n"
          ]
        }
      ]
    },
    {
      "cell_type": "code",
      "source": [
        "#11. write a program to remove vowels from the entire alphabets\n",
        "x=\"abcdefghijklmnopqrstuvwxyz\"\n",
        "x1=x.replace(\"a\",\"\")\n",
        "x2=x1.replace(\"e\",\"\")\n",
        "x3=x2.replace(\"i\",\"\")\n",
        "x4=x3.replace(\"o\",\"\")\n",
        "x5=x4.replace(\"u\",\"\")\n",
        "print(x5)"
      ],
      "metadata": {
        "colab": {
          "base_uri": "https://localhost:8080/"
        },
        "id": "nCEyMWrNz6WE",
        "outputId": "628ed0f3-3ed7-4d1a-9858-80ef9619af4c"
      },
      "execution_count": null,
      "outputs": [
        {
          "output_type": "stream",
          "name": "stdout",
          "text": [
            "bcdfghjklmnpqrstvwxyz\n"
          ]
        }
      ]
    }
  ]
}