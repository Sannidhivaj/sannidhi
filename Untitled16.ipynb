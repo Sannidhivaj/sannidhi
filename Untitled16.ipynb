{
  "nbformat": 4,
  "nbformat_minor": 0,
  "metadata": {
    "colab": {
      "provenance": []
    },
    "kernelspec": {
      "name": "python3",
      "display_name": "Python 3"
    },
    "language_info": {
      "name": "python"
    }
  },
  "cells": [
    {
      "cell_type": "code",
      "execution_count": null,
      "metadata": {
        "colab": {
          "base_uri": "https://localhost:8080/"
        },
        "id": "Ptg5PG52-E67",
        "outputId": "2afcf20d-20f7-4b48-91e9-ee9d8b44afd7"
      },
      "outputs": [
        {
          "output_type": "stream",
          "name": "stdout",
          "text": [
            "enter temperatute in celcius or fahrenheit:celcius\n",
            "enter the temperature:45\n",
            "45 degree celcius =113.0\n"
          ]
        }
      ],
      "source": [
        "x = input(\"enter temperatute in celcius or fahrenheit:\")\n",
        "if x==\"celcius\":\n",
        "  y=int(input(\"enter the temperature:\"))\n",
        "  print(\"{} degree celcius ={}\".format(y,y*9/5+32))\n",
        "elif x==\"fahrenheit\":\n",
        "  y=int(input(\"enter the temperature:\"))\n",
        "  print(\"{}f ={}\".format(y,(y-32)*5/9))\n",
        "else:\n",
        "  print(\"not defined\")"
      ]
    },
    {
      "cell_type": "code",
      "source": [
        "x = input(\"enter temperature in celcius or fahrenheit:\")\n",
        "if x==\"celcius\":\n",
        "  y=int(input(\"enter the temperature:\"))\n",
        "  print(\"{} degree celcius ={}\".format(y,y*9/5+32))\n",
        "elif x==\"fahrenheit\":\n",
        "  y=int(input(\"enter the temperature:\"))\n",
        "  print(\"{}f ={}\".format(y,(y-32)*5/9))\n",
        "else:\n",
        "  print(\"not defined\")"
      ],
      "metadata": {
        "colab": {
          "base_uri": "https://localhost:8080/"
        },
        "id": "-QnNMriXqZ1F",
        "outputId": "b560324d-1f1f-4832-dff2-8867de152eff"
      },
      "execution_count": null,
      "outputs": [
        {
          "output_type": "stream",
          "name": "stdout",
          "text": [
            "enter temperature in celcius or fahrenheit:fahrenheit\n",
            "enter the temperature:55\n",
            "55f =12.777777777777779\n"
          ]
        }
      ]
    },
    {
      "cell_type": "code",
      "source": [],
      "metadata": {
        "id": "oMvLNP38qBhR"
      },
      "execution_count": null,
      "outputs": []
    }
  ]
}