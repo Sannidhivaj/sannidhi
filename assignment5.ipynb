{
  "nbformat": 4,
  "nbformat_minor": 0,
  "metadata": {
    "colab": {
      "provenance": []
    },
    "kernelspec": {
      "name": "python3",
      "display_name": "Python 3"
    },
    "language_info": {
      "name": "python"
    }
  },
  "cells": [
    {
      "cell_type": "code",
      "execution_count": null,
      "metadata": {
        "colab": {
          "base_uri": "https://localhost:8080/"
        },
        "id": "V2d0D6BBJ6nz",
        "outputId": "aa015721-5026-4024-d40c-75aaae670874"
      },
      "outputs": [
        {
          "output_type": "stream",
          "name": "stdout",
          "text": [
            "*****\n",
            "*   *\n",
            "*****\n",
            "*   *\n",
            "*   *\n"
          ]
        }
      ],
      "source": [
        "for y in range(1,6):\n",
        "  if y==1:\n",
        "    print(\"*****\")\n",
        "  elif y==2 or y==4 or y==5:\n",
        "    print(\"*   *\")\n",
        "  else:\n",
        "    print(\"*****\")"
      ]
    },
    {
      "cell_type": "code",
      "source": [
        "for y in range(1,6):\n",
        "  if y==1:\n",
        "    print(\"* * * * *\")\n",
        "  elif y==2 or y==4:\n",
        "    print(\"*        *\")\n",
        "  else:\n",
        "    print(\"* * * * *\")"
      ],
      "metadata": {
        "colab": {
          "base_uri": "https://localhost:8080/"
        },
        "id": "O79IHdv4LZVe",
        "outputId": "e9cfeeaf-cf34-4d66-b8aa-c54b2bfc0479"
      },
      "execution_count": null,
      "outputs": [
        {
          "output_type": "stream",
          "name": "stdout",
          "text": [
            "* * * * *\n",
            "*        *\n",
            "* * * * *\n",
            "*        *\n",
            "* * * * *\n"
          ]
        }
      ]
    },
    {
      "cell_type": "code",
      "source": [
        "for y in range(1,6):\n",
        "  if y==1:\n",
        "    print(\"* * * * *\")\n",
        "  elif y==2 or y==4 or y==3:\n",
        "    print(\"*        \")\n",
        "  else:\n",
        "    print(\"* * * * *\")"
      ],
      "metadata": {
        "colab": {
          "base_uri": "https://localhost:8080/"
        },
        "id": "NW_r04e1NVZo",
        "outputId": "b1419ce8-952c-460a-fa50-46629cb23822"
      },
      "execution_count": null,
      "outputs": [
        {
          "output_type": "stream",
          "name": "stdout",
          "text": [
            "* * * * *\n",
            "*        \n",
            "*        \n",
            "*        \n",
            "* * * * *\n"
          ]
        }
      ]
    },
    {
      "cell_type": "code",
      "source": [
        "for y in range(1,5):\n",
        "  if y==1:\n",
        "    print(\"* * * * *\")\n",
        "  elif y==2 or y==3:\n",
        "    print(\"*         *\")\n",
        "  else:\n",
        "    print(\"* * * * *\")"
      ],
      "metadata": {
        "colab": {
          "base_uri": "https://localhost:8080/"
        },
        "id": "fqFanss2O8nh",
        "outputId": "976a5684-b244-4380-a4ae-e0adcf27afec"
      },
      "execution_count": null,
      "outputs": [
        {
          "output_type": "stream",
          "name": "stdout",
          "text": [
            "* * * * *\n",
            "*         *\n",
            "*         *\n",
            "* * * * *\n"
          ]
        }
      ]
    },
    {
      "cell_type": "code",
      "source": [
        "for y in range(1,6):\n",
        "  if y==1:\n",
        "    print(\"* * * * *\")\n",
        "  elif y==2 or y==4:\n",
        "    print(\"*        \")\n",
        "  else:\n",
        "    print(\"* * * * *\")"
      ],
      "metadata": {
        "colab": {
          "base_uri": "https://localhost:8080/"
        },
        "id": "V3uVJY1ZPzU8",
        "outputId": "6d64a822-9f04-4577-baa1-94449af00f72"
      },
      "execution_count": null,
      "outputs": [
        {
          "output_type": "stream",
          "name": "stdout",
          "text": [
            "* * * * *\n",
            "*        \n",
            "* * * * *\n",
            "*        \n",
            "* * * * *\n"
          ]
        }
      ]
    },
    {
      "cell_type": "code",
      "source": [
        "for y in range(1,6):\n",
        "  if y==1:\n",
        "    print(\"* * * * *\")\n",
        "  elif y==2 or y==4 or y==5:\n",
        "    print(\"*        \")\n",
        "  else:\n",
        "    print(\"* * * * *\")"
      ],
      "metadata": {
        "colab": {
          "base_uri": "https://localhost:8080/"
        },
        "id": "Sn88dZsPQEUv",
        "outputId": "6a9b035c-4915-49b4-eb4f-924915bac5c3"
      },
      "execution_count": null,
      "outputs": [
        {
          "output_type": "stream",
          "name": "stdout",
          "text": [
            "* * * * *\n",
            "*        \n",
            "* * * * *\n",
            "*        \n",
            "*        \n"
          ]
        }
      ]
    },
    {
      "cell_type": "code",
      "source": [
        "for y in range(1,6):\n",
        "  if y==1:\n",
        "    print(\"* * * * *\")\n",
        "  elif y==2:\n",
        "    print(\"*        \")\n",
        "  elif y==3:\n",
        "    print(\"*   * * *\")\n",
        "  elif y==4:\n",
        "    print(\"*   *   *\")\n",
        "  else:\n",
        "    print(\"* * *   *\")"
      ],
      "metadata": {
        "id": "fZBNJk_SQOcR",
        "colab": {
          "base_uri": "https://localhost:8080/"
        },
        "outputId": "e16d2463-48c4-45db-ffac-9498bc624a78"
      },
      "execution_count": null,
      "outputs": [
        {
          "output_type": "stream",
          "name": "stdout",
          "text": [
            "* * * * *\n",
            "*        \n",
            "*   * * *\n",
            "*   *   *\n",
            "* * *   *\n"
          ]
        }
      ]
    },
    {
      "cell_type": "code",
      "source": [
        "for y in range(1,6):\n",
        "  if y==1 or y==2 or y==4 or y==5:\n",
        "    print(\"*         *\")\n",
        "  else:\n",
        "    print(\"* * * * * *\")"
      ],
      "metadata": {
        "colab": {
          "base_uri": "https://localhost:8080/"
        },
        "id": "wnQ4eterCpRm",
        "outputId": "a9ce2bca-dcc9-4f7a-e1a0-c37185d0c12b"
      },
      "execution_count": null,
      "outputs": [
        {
          "output_type": "stream",
          "name": "stdout",
          "text": [
            "*         *\n",
            "*         *\n",
            "* * * * * *\n",
            "*         *\n",
            "*         *\n"
          ]
        }
      ]
    },
    {
      "cell_type": "code",
      "source": [
        "for y in range(1,6):\n",
        "  if y==1 or y==5:\n",
        "    print(\"* * * * *\")\n",
        "  else:\n",
        "    print(\"    *    \")"
      ],
      "metadata": {
        "colab": {
          "base_uri": "https://localhost:8080/"
        },
        "id": "ZT223vLALj5e",
        "outputId": "52f3dc3d-5f6c-4af0-d1dc-874793bc2806"
      },
      "execution_count": null,
      "outputs": [
        {
          "output_type": "stream",
          "name": "stdout",
          "text": [
            "* * * * *\n",
            "    *    \n",
            "    *    \n",
            "    *    \n",
            "* * * * *\n"
          ]
        }
      ]
    },
    {
      "cell_type": "code",
      "source": [
        "for y in range(1,6):\n",
        "  if y==1:\n",
        "    print(\"* * * * *\")\n",
        "  elif y==2 or y==3:\n",
        "    print(\"  *       \")\n",
        "  elif y==4:\n",
        "    print(\"  *      *\")\n",
        "  else:\n",
        "    print(\"  * * * *\")\n"
      ],
      "metadata": {
        "colab": {
          "base_uri": "https://localhost:8080/"
        },
        "id": "gPy89dnyMDfN",
        "outputId": "ddb46e23-91b2-46ab-bfe9-3c785848a009"
      },
      "execution_count": null,
      "outputs": [
        {
          "output_type": "stream",
          "name": "stdout",
          "text": [
            "* * * * *\n",
            "  *       \n",
            "  *       \n",
            "  *      *\n",
            "  * * * *\n"
          ]
        }
      ]
    },
    {
      "cell_type": "code",
      "source": [
        "for y in range(1,8):\n",
        "  if y==1 or y==7:\n",
        "    print(\"*       *\")\n",
        "  elif y==2 or y==6:\n",
        "    print(\"*     *\")\n",
        "  elif y==3 or y==5:\n",
        "    print(\"*   *\")\n",
        "  else:\n",
        "    print(\"* *\")"
      ],
      "metadata": {
        "colab": {
          "base_uri": "https://localhost:8080/"
        },
        "id": "Wxi_6k6cNT_E",
        "outputId": "2182c847-4fc7-48ce-fdf9-5cd1ac2891b9"
      },
      "execution_count": null,
      "outputs": [
        {
          "output_type": "stream",
          "name": "stdout",
          "text": [
            "*       *\n",
            "*     *\n",
            "*   *\n",
            "* *\n",
            "*   *\n",
            "*     *\n",
            "*       *\n"
          ]
        }
      ]
    },
    {
      "cell_type": "code",
      "source": [
        "for y in range(1,6):\n",
        "  if y==1 or y==2 or y==3 or y==4:\n",
        "    print(\"*        \")\n",
        "  else:\n",
        "    print(\"* * * * *\")"
      ],
      "metadata": {
        "colab": {
          "base_uri": "https://localhost:8080/"
        },
        "id": "Pz8L8Z56PNUK",
        "outputId": "9782a69a-2bc9-472e-a421-370fcad33ca1"
      },
      "execution_count": null,
      "outputs": [
        {
          "output_type": "stream",
          "name": "stdout",
          "text": [
            "*        \n",
            "*        \n",
            "*        \n",
            "*        \n",
            "* * * * *\n"
          ]
        }
      ]
    },
    {
      "cell_type": "code",
      "source": [
        "for y in range(1,6):\n",
        "  if y==1:\n",
        "    print(\"*       *\")\n",
        "  elif y==2:\n",
        "    print(\"* *   * *\")\n",
        "  elif y==4 or y==5:\n",
        "    print(\"*       *\")\n",
        "  else:\n",
        "    print(\"*   *   *\")\n",
        "\n"
      ],
      "metadata": {
        "colab": {
          "base_uri": "https://localhost:8080/"
        },
        "id": "RCcV1jrhPhL_",
        "outputId": "1917c9a9-59a0-41bc-90ce-6743a029af10"
      },
      "execution_count": null,
      "outputs": [
        {
          "output_type": "stream",
          "name": "stdout",
          "text": [
            "*       *\n",
            "* *   * *\n",
            "*   *   *\n",
            "*       *\n",
            "*       *\n"
          ]
        }
      ]
    },
    {
      "cell_type": "code",
      "source": [
        "for y in range(1,6):\n",
        "  if y==1:\n",
        "    print(\"*       *\")\n",
        "  elif y==2:\n",
        "    print(\"* *     *\")\n",
        "  elif y==3:\n",
        "    print(\"*   *   *\")\n",
        "  elif y==4:\n",
        "    print(\"*     * *\")\n",
        "  else:\n",
        "    print(\"*       *\")"
      ],
      "metadata": {
        "colab": {
          "base_uri": "https://localhost:8080/"
        },
        "id": "3-1hV6-NPDfQ",
        "outputId": "e7db0ec3-94e1-48c5-c79c-dec2835cbe3b"
      },
      "execution_count": null,
      "outputs": [
        {
          "output_type": "stream",
          "name": "stdout",
          "text": [
            "*       *\n",
            "* *     *\n",
            "*   *   *\n",
            "*     * *\n",
            "*       *\n"
          ]
        }
      ]
    },
    {
      "cell_type": "code",
      "source": [
        "for y in range(1,5):\n",
        "  if y==1:\n",
        "    print(\"* * * * *\")\n",
        "  elif y==2 or y==3:\n",
        "    print(\"*       *\")\n",
        "  else:\n",
        "    print(\"* * * * *\")"
      ],
      "metadata": {
        "colab": {
          "base_uri": "https://localhost:8080/"
        },
        "id": "NZo-JtdER9cY",
        "outputId": "36b4ca6a-c7d3-4b20-f8a0-f99dfb8ab337"
      },
      "execution_count": null,
      "outputs": [
        {
          "output_type": "stream",
          "name": "stdout",
          "text": [
            "* * * * *\n",
            "*       *\n",
            "*       *\n",
            "* * * * *\n"
          ]
        }
      ]
    },
    {
      "cell_type": "code",
      "source": [
        "for y in range(1,6):\n",
        "  if y==1 or y==3:\n",
        "    print(\"* * * *\")\n",
        "  elif y==4 or y==5:\n",
        "    print(\"*      \")\n",
        "  else:\n",
        "    print(\"*     *\")"
      ],
      "metadata": {
        "colab": {
          "base_uri": "https://localhost:8080/"
        },
        "id": "PiE9iG1wSC3G",
        "outputId": "bf3cf44e-fa15-4c8f-e908-89af29b173f7"
      },
      "execution_count": null,
      "outputs": [
        {
          "output_type": "stream",
          "name": "stdout",
          "text": [
            "* * * *\n",
            "*     *\n",
            "* * * *\n",
            "*      \n",
            "*      \n"
          ]
        }
      ]
    },
    {
      "cell_type": "code",
      "source": [
        "for y in range(1,6):\n",
        "  if y==1:\n",
        "    print(\"* * * * *\")\n",
        "  elif y==2 or y==3:\n",
        "    print(\"*    *  *\")\n",
        "  elif y==5:\n",
        "    print(\"          * \")\n",
        "  else:\n",
        "    print(\"* * * * *\")"
      ],
      "metadata": {
        "colab": {
          "base_uri": "https://localhost:8080/"
        },
        "id": "-3Ot4AgMTKW6",
        "outputId": "f628c3dd-8e68-445f-8d31-0ffb49753b50"
      },
      "execution_count": null,
      "outputs": [
        {
          "output_type": "stream",
          "name": "stdout",
          "text": [
            "* * * * *\n",
            "*    *  *\n",
            "*    *  *\n",
            "* * * * *\n",
            "          * \n"
          ]
        }
      ]
    },
    {
      "cell_type": "code",
      "source": [
        "for y in range(1,6):\n",
        "  if y==1 or y==3:\n",
        "    print(\"* * *\")\n",
        "  else:\n",
        "    print(\"*    *\")"
      ],
      "metadata": {
        "colab": {
          "base_uri": "https://localhost:8080/"
        },
        "id": "kUvvxefRTLEA",
        "outputId": "d33823e8-1dbf-4291-923a-a0bb76ff2aac"
      },
      "execution_count": null,
      "outputs": [
        {
          "output_type": "stream",
          "name": "stdout",
          "text": [
            "* * *\n",
            "*    *\n",
            "* * *\n",
            "*    *\n",
            "*    *\n"
          ]
        }
      ]
    },
    {
      "cell_type": "code",
      "source": [
        "for y in range(1,6):\n",
        "  if y==1 or y==3 or y==5:\n",
        "    print(\"* * * * *\")\n",
        "  elif y==2:\n",
        "    print(\"*        \")\n",
        "  else:\n",
        "    print(\"        *\")"
      ],
      "metadata": {
        "colab": {
          "base_uri": "https://localhost:8080/"
        },
        "id": "gFrTaW28To9H",
        "outputId": "5edd78aa-d782-4fcb-c0a1-9342ff26da7c"
      },
      "execution_count": null,
      "outputs": [
        {
          "output_type": "stream",
          "name": "stdout",
          "text": [
            "* * * * *\n",
            "*        \n",
            "* * * * *\n",
            "        *\n",
            "* * * * *\n"
          ]
        }
      ]
    },
    {
      "cell_type": "code",
      "source": [
        "for y in range(1,5):\n",
        "  if y==1:\n",
        "    print(\"* * * * *\")\n",
        "  else:\n",
        "    print(\"    *    \")"
      ],
      "metadata": {
        "colab": {
          "base_uri": "https://localhost:8080/"
        },
        "id": "-uMtXZSISqbz",
        "outputId": "cd7410c4-dd85-4a41-fabf-f8919d86e4e2"
      },
      "execution_count": null,
      "outputs": [
        {
          "output_type": "stream",
          "name": "stdout",
          "text": [
            "* * * * *\n",
            "    *    \n",
            "    *    \n",
            "    *    \n"
          ]
        }
      ]
    },
    {
      "cell_type": "code",
      "source": [
        "for y in range(1,5):\n",
        "  if y==1:\n",
        "    print(\"*       *\")\n",
        "  elif y==2 or y==3:\n",
        "    print(\"*       *\")\n",
        "  else:\n",
        "    print(\"* * * * *\")"
      ],
      "metadata": {
        "colab": {
          "base_uri": "https://localhost:8080/"
        },
        "id": "aItH_388V9OX",
        "outputId": "47315d77-9bb4-4ea3-f6ef-3c98b942c0ec"
      },
      "execution_count": null,
      "outputs": [
        {
          "output_type": "stream",
          "name": "stdout",
          "text": [
            "*       *\n",
            "*       *\n",
            "*       *\n",
            "* * * * *\n"
          ]
        }
      ]
    },
    {
      "cell_type": "code",
      "source": [
        "for y in range(1,4):\n",
        "  if y==1:\n",
        "    print(\"*     *\")\n",
        "  elif y==2:\n",
        "    print(\" *   * \")\n",
        "  else:\n",
        "    print(\"   *\")"
      ],
      "metadata": {
        "colab": {
          "base_uri": "https://localhost:8080/"
        },
        "id": "P2RFK2OiWOok",
        "outputId": "d8111094-f629-4d71-a1a5-773f22ff70c5"
      },
      "execution_count": null,
      "outputs": [
        {
          "output_type": "stream",
          "name": "stdout",
          "text": [
            "*     *\n",
            " *   * \n",
            "   *\n"
          ]
        }
      ]
    },
    {
      "cell_type": "code",
      "source": [
        "for y in range(1,6):\n",
        "  if y==1 or y==2:\n",
        "    print(\"*       *\")\n",
        "  elif y==3:\n",
        "    print(\"*   *   *\")\n",
        "  elif y==4:\n",
        "    print(\"* *   * *\")\n",
        "  else:\n",
        "    print(\"*       *\")"
      ],
      "metadata": {
        "colab": {
          "base_uri": "https://localhost:8080/"
        },
        "id": "7-byy7y7XSPY",
        "outputId": "21fe3b2d-60aa-4696-f6ed-68cba5302d2a"
      },
      "execution_count": null,
      "outputs": [
        {
          "output_type": "stream",
          "name": "stdout",
          "text": [
            "*       *\n",
            "*       *\n",
            "*   *   *\n",
            "* *   * *\n",
            "*       *\n"
          ]
        }
      ]
    },
    {
      "cell_type": "code",
      "source": [
        "for y in range(1,6):\n",
        "  if y==1 or y==5:\n",
        "    print(\"*       *\")\n",
        "  elif y==2 or y==4:\n",
        "    print(\"  *   *\")\n",
        "  else:\n",
        "    print(\"    *  \")"
      ],
      "metadata": {
        "colab": {
          "base_uri": "https://localhost:8080/"
        },
        "id": "pNhNjmM5YwBs",
        "outputId": "07b4eea4-7f3c-449d-94b3-6e222bd9ee73"
      },
      "execution_count": null,
      "outputs": [
        {
          "output_type": "stream",
          "name": "stdout",
          "text": [
            "*       *\n",
            "  *   *\n",
            "    *  \n",
            "  *   *\n",
            "*       *\n"
          ]
        }
      ]
    },
    {
      "cell_type": "code",
      "source": [
        "for y in range(1,7):\n",
        "  if y==1:\n",
        "    print(\"*       *\")\n",
        "  elif y==2:\n",
        "    print(\"  *    *\")\n",
        "  elif y==3:\n",
        "    print(\"    * *\")\n",
        "  elif y==4:\n",
        "    print(\"     *\")\n",
        "  elif y==5:\n",
        "    print(\"    *\")\n",
        "  else:\n",
        "    print(\"   *\")"
      ],
      "metadata": {
        "colab": {
          "base_uri": "https://localhost:8080/"
        },
        "id": "V6ANuTxZZj_K",
        "outputId": "3c75401c-86e5-4bb9-bfcb-10d4d1b7d161"
      },
      "execution_count": null,
      "outputs": [
        {
          "output_type": "stream",
          "name": "stdout",
          "text": [
            "*       *\n",
            "  *    *\n",
            "    * *\n",
            "     *\n",
            "    *\n",
            "   *\n"
          ]
        }
      ]
    },
    {
      "cell_type": "code",
      "source": [
        "for y in range(1,5):\n",
        "  if y==1 or y==4:\n",
        "    print(\"* * * *\")\n",
        "  elif y==2:\n",
        "    print(\"    *\")\n",
        "  else:\n",
        "    print(\"  *\")\n"
      ],
      "metadata": {
        "colab": {
          "base_uri": "https://localhost:8080/"
        },
        "id": "_1efBECIaSMc",
        "outputId": "f26bc38e-7b29-43ff-ce80-46d4c95912f9"
      },
      "execution_count": null,
      "outputs": [
        {
          "output_type": "stream",
          "name": "stdout",
          "text": [
            "* * * *\n",
            "    *\n",
            "  *\n",
            "* * * *\n"
          ]
        }
      ]
    },
    {
      "cell_type": "markdown",
      "source": [
        "SMALL LETTERS FROM a to z"
      ],
      "metadata": {
        "id": "6A8K5w5wGlrv"
      }
    },
    {
      "cell_type": "code",
      "source": [
        "x=1\n",
        "while x<6:\n",
        "  if x==1:\n",
        "    print(\"   * * * \")\n",
        "  elif x==2:\n",
        "    print(\"  *      * \")\n",
        "  elif x==3:\n",
        "    print(\" *        *\")\n",
        "  elif x==4:\n",
        "    print(\"  *       *    *\")\n",
        "  else:\n",
        "    print(\"    * * *   * * \")\n",
        "  x=x+1"
      ],
      "metadata": {
        "colab": {
          "base_uri": "https://localhost:8080/"
        },
        "id": "W7Q6yLCGGvoX",
        "outputId": "d43ce228-02e6-4e05-fb1c-cc805547a49c"
      },
      "execution_count": 9,
      "outputs": [
        {
          "output_type": "stream",
          "name": "stdout",
          "text": [
            "   * * * \n",
            "  *      * \n",
            " *        *\n",
            "  *       *    *\n",
            "    * * *   * * \n"
          ]
        }
      ]
    },
    {
      "cell_type": "code",
      "source": [
        "x=1\n",
        "while x<7:\n",
        "  if x==1 or x==2 or x==3:\n",
        "    print(\"*      \")\n",
        "  elif x==4 or x==6:\n",
        "    print(\"* * *\")\n",
        "  else:\n",
        "    print(\"*   *\")\n",
        "  x=x+1\n",
        ""
      ],
      "metadata": {
        "colab": {
          "base_uri": "https://localhost:8080/"
        },
        "id": "AgBxFEbfJxSj",
        "outputId": "40e2fff2-095d-4a42-8ad8-e114f30798cb"
      },
      "execution_count": 11,
      "outputs": [
        {
          "output_type": "stream",
          "name": "stdout",
          "text": [
            "*      \n",
            "*      \n",
            "*      \n",
            "* * *\n",
            "*   *\n",
            "* * *\n"
          ]
        }
      ]
    },
    {
      "cell_type": "code",
      "source": [
        "x=1\n",
        "while x<5:\n",
        "  if x==1:\n",
        "   print(\"      * * * *\")\n",
        "  elif x==2:\n",
        "   print(\"    *       \")\n",
        "  elif x==3:\n",
        "    print(\"*    *    \")\n",
        "  else:\n",
        "    print(\"  * * *  * * \")\n",
        "  x=x+1"
      ],
      "metadata": {
        "colab": {
          "base_uri": "https://localhost:8080/"
        },
        "id": "DoxDgupiLB_a",
        "outputId": "1a4541f7-28e4-41d5-e4f4-5b24b6d198bd"
      },
      "execution_count": 18,
      "outputs": [
        {
          "output_type": "stream",
          "name": "stdout",
          "text": [
            "      * * * *\n",
            "    *       \n",
            "*    *    \n",
            "  * * *  * * \n"
          ]
        }
      ]
    },
    {
      "cell_type": "code",
      "source": [
        "x=1\n",
        "while x<7:\n",
        "  if x==1 or x==2 or x==3:\n",
        "    print(\"    *\")\n",
        "  elif x==4 or x==6:\n",
        "    print(\"* * *\")\n",
        "  else:\n",
        "    print(\"*   *\")\n",
        "  x=x+1"
      ],
      "metadata": {
        "colab": {
          "base_uri": "https://localhost:8080/"
        },
        "id": "6P0_NtiVNH0B",
        "outputId": "99017976-abec-48b3-de55-31b1361e8aa0"
      },
      "execution_count": 21,
      "outputs": [
        {
          "output_type": "stream",
          "name": "stdout",
          "text": [
            "    *\n",
            "    *\n",
            "    *\n",
            "* * *\n",
            "*   *\n",
            "* * *\n"
          ]
        }
      ]
    },
    {
      "cell_type": "code",
      "source": [
        "x=1\n",
        "while x<6:\n",
        "  if x==4:\n",
        "    print(\"*    \")\n",
        "  elif x==2:\n",
        "    print(\"*     *\")\n",
        "  elif x==3:\n",
        "    print(\"* * * *\")\n",
        "  elif x==1:\n",
        "    print(\"  * * \")\n",
        "  else:\n",
        "    print(\"  * * *\")\n",
        "  x=x+1"
      ],
      "metadata": {
        "colab": {
          "base_uri": "https://localhost:8080/"
        },
        "id": "BckF-1dlNVur",
        "outputId": "df89ce7b-ffc2-4e27-82d7-afd10012f764"
      },
      "execution_count": 22,
      "outputs": [
        {
          "output_type": "stream",
          "name": "stdout",
          "text": [
            "  * * \n",
            "*     *\n",
            "* * * *\n",
            "*    \n",
            "  * * *\n"
          ]
        }
      ]
    },
    {
      "cell_type": "code",
      "source": [
        "x=1\n",
        "while x<7:\n",
        "  if x==4:\n",
        "    print(\"* * * *  \")\n",
        "  elif x==2:\n",
        "    print(\"  *   * \")\n",
        "  elif x==1:\n",
        "    print(\"   * *\")\n",
        "  else:\n",
        "    print(\"  *\")\n",
        "  x=x+1"
      ],
      "metadata": {
        "colab": {
          "base_uri": "https://localhost:8080/"
        },
        "id": "g2NHx9ASQE1H",
        "outputId": "890005fb-7e23-4986-8c0c-f594e774e762"
      },
      "execution_count": 23,
      "outputs": [
        {
          "output_type": "stream",
          "name": "stdout",
          "text": [
            "   * *\n",
            "  *   * \n",
            "  *\n",
            "* * * *  \n",
            "  *\n",
            "  *\n"
          ]
        }
      ]
    },
    {
      "cell_type": "code",
      "source": [
        "x=1\n",
        "while x<7:\n",
        "  if x==5 or x==2:\n",
        "   print(\"*      *\")\n",
        "  elif x==1 or x==6 or x==3:\n",
        "    print(\"  * * * \")\n",
        "  else:\n",
        "    print(\"      *\")\n",
        "  x=x+1"
      ],
      "metadata": {
        "colab": {
          "base_uri": "https://localhost:8080/"
        },
        "id": "IcGHxITnQz8o",
        "outputId": "a0906d2e-a37b-43b3-8b31-2777604ffb73"
      },
      "execution_count": 24,
      "outputs": [
        {
          "output_type": "stream",
          "name": "stdout",
          "text": [
            "  * * * \n",
            "*      *\n",
            "  * * * \n",
            "      *\n",
            "*      *\n",
            "  * * * \n"
          ]
        }
      ]
    },
    {
      "cell_type": "code",
      "source": [
        "x=1\n",
        "while x<6:\n",
        "  if x==3:\n",
        "    print(\"* * * \")\n",
        "  elif x==4 or x==5:\n",
        "    print(\"*   *\")\n",
        "  else:\n",
        "    print(\"*\")\n",
        "  x=x+1"
      ],
      "metadata": {
        "colab": {
          "base_uri": "https://localhost:8080/"
        },
        "id": "Nx7Vr1QlResh",
        "outputId": "3b815a5f-caf7-443b-ae69-5905a1438175"
      },
      "execution_count": 26,
      "outputs": [
        {
          "output_type": "stream",
          "name": "stdout",
          "text": [
            "*\n",
            "*\n",
            "* * * \n",
            "*   *\n",
            "*   *\n"
          ]
        }
      ]
    },
    {
      "cell_type": "code",
      "source": [
        "x=1\n",
        "while x<6:\n",
        "  if x==1:\n",
        "    print(\" ** \")\n",
        "  elif x==2:\n",
        "    print(\" \")\n",
        "  else:\n",
        "    print(\" *  \")\n",
        "  x=x+1"
      ],
      "metadata": {
        "colab": {
          "base_uri": "https://localhost:8080/"
        },
        "id": "eTzPnR5bSXCn",
        "outputId": "dc8c337c-049d-4d0e-92df-b92493b65f66"
      },
      "execution_count": 28,
      "outputs": [
        {
          "output_type": "stream",
          "name": "stdout",
          "text": [
            " ** \n",
            " \n",
            " *  \n",
            " *  \n",
            " *  \n"
          ]
        }
      ]
    },
    {
      "cell_type": "code",
      "source": [
        "x=1\n",
        "while x<8:\n",
        "  if x==1:\n",
        "    print(\"     0 \")\n",
        "  elif x==2:\n",
        "    print(\" \")\n",
        "  elif x==5 or x==6:\n",
        "    print(\"*    *    *\")\n",
        "  elif x==7:\n",
        "    print(\"* *    * *\")\n",
        "  else:\n",
        "    print(\"     *  \")\n",
        "  x=x+1"
      ],
      "metadata": {
        "colab": {
          "base_uri": "https://localhost:8080/"
        },
        "id": "pTsUqjnRj2xQ",
        "outputId": "10260207-a422-49ab-bbbb-67ac7ad68fc3"
      },
      "execution_count": 43,
      "outputs": [
        {
          "output_type": "stream",
          "name": "stdout",
          "text": [
            "     0 \n",
            " \n",
            "     *  \n",
            "     *  \n",
            "*    *    *\n",
            "*    *    *\n",
            "* *    * *\n"
          ]
        }
      ]
    },
    {
      "cell_type": "code",
      "source": [
        "x=1\n",
        "while x<7:\n",
        "  if x==1:\n",
        "    print(\"*\")\n",
        "  elif x==2 or x==4:\n",
        "    print(\"*  *\")\n",
        "  elif x==3:\n",
        "    print(\"**\")\n",
        "  else:\n",
        "    print(\"*   *\")\n",
        "  x=x+1"
      ],
      "metadata": {
        "colab": {
          "base_uri": "https://localhost:8080/"
        },
        "id": "jlOa9mkDk31q",
        "outputId": "04219d10-dcb9-46c3-b6b1-ec229527f62a"
      },
      "execution_count": 36,
      "outputs": [
        {
          "output_type": "stream",
          "name": "stdout",
          "text": [
            "*\n",
            "*  *\n",
            "**\n",
            "*  *\n",
            "*   *\n",
            "*   *\n"
          ]
        }
      ]
    },
    {
      "cell_type": "code",
      "source": [
        "x=1\n",
        "while x<8:\n",
        "  if x==1 or x==2:\n",
        "    print(\"     * \")\n",
        "  elif x==5 or x==6:\n",
        "    print(\"*    *    *\")\n",
        "  elif x==7:\n",
        "    print(\"* *    * *\")\n",
        "  else:\n",
        "    print(\"     *  \")\n",
        "  x=x+1"
      ],
      "metadata": {
        "colab": {
          "base_uri": "https://localhost:8080/"
        },
        "id": "cukDHKApmZgM",
        "outputId": "e467584b-4253-4af7-8526-cfb99d344146"
      },
      "execution_count": 45,
      "outputs": [
        {
          "output_type": "stream",
          "name": "stdout",
          "text": [
            "     * \n",
            "     * \n",
            "     *  \n",
            "     *  \n",
            "*    *    *\n",
            "*    *    *\n",
            "* *    * *\n"
          ]
        }
      ]
    },
    {
      "cell_type": "code",
      "source": [
        "x=1\n",
        "while x<6:\n",
        "  if x==3:\n",
        "    print(\" * * *\")\n",
        "  elif x==4 or x==5:\n",
        "    print(\" *   *\")\n",
        "  elif x==1:\n",
        "    print(\"*   \")\n",
        "  else:\n",
        "    print(\" * *  *\")\n",
        "  x=x+1"
      ],
      "metadata": {
        "colab": {
          "base_uri": "https://localhost:8080/"
        },
        "id": "fDu8QtkEnAHN",
        "outputId": "eeb29f7b-b674-4615-8dde-2f6a537e151f"
      },
      "execution_count": 46,
      "outputs": [
        {
          "output_type": "stream",
          "name": "stdout",
          "text": [
            "*   \n",
            " * *  *\n",
            " * * *\n",
            " *   *\n",
            " *   *\n"
          ]
        }
      ]
    },
    {
      "cell_type": "code",
      "source": [
        "x=1\n",
        "while x<5:\n",
        "  if x==1:\n",
        "   print(\"*\")\n",
        "  elif x==2:\n",
        "   print(\" * *\")\n",
        "  else:\n",
        "   print(\" *   *\")\n",
        "  x=x+1"
      ],
      "metadata": {
        "colab": {
          "base_uri": "https://localhost:8080/"
        },
        "id": "Jc9NOizAn-ZA",
        "outputId": "061fce67-a021-4ed1-840f-13c31efc958d"
      },
      "execution_count": 47,
      "outputs": [
        {
          "output_type": "stream",
          "name": "stdout",
          "text": [
            "*\n",
            " * *\n",
            " *   *\n",
            " *   *\n"
          ]
        }
      ]
    },
    {
      "cell_type": "code",
      "source": [
        "x=1\n",
        "while x<4:\n",
        "  if x==1 or x==3:\n",
        "    print(\" * *\")\n",
        "  else:\n",
        "    print(\"*   *\")\n",
        "  x=x+1"
      ],
      "metadata": {
        "colab": {
          "base_uri": "https://localhost:8080/"
        },
        "id": "dmoxxL8Jovmj",
        "outputId": "313eed63-bcfd-4fd8-e2b4-3badd402451a"
      },
      "execution_count": 1,
      "outputs": [
        {
          "output_type": "stream",
          "name": "stdout",
          "text": [
            " * *\n",
            "*   *\n",
            " * *\n"
          ]
        }
      ]
    },
    {
      "cell_type": "code",
      "source": [
        "x=1\n",
        "while x<8:\n",
        "  if x==3:\n",
        "    print(\"*  *\")\n",
        "  elif x==2 or x==4:\n",
        "    print(\"* *\")\n",
        "  else:\n",
        "    print(\"*\")\n",
        "  x=x+1"
      ],
      "metadata": {
        "colab": {
          "base_uri": "https://localhost:8080/"
        },
        "id": "zVq9nUZiC2w2",
        "outputId": "5d3439db-435d-4f03-8ffb-6d5787b02414"
      },
      "execution_count": 2,
      "outputs": [
        {
          "output_type": "stream",
          "name": "stdout",
          "text": [
            "*\n",
            "* *\n",
            "*  *\n",
            "* *\n",
            "*\n",
            "*\n",
            "*\n"
          ]
        }
      ]
    },
    {
      "cell_type": "code",
      "source": [
        "x=1\n",
        "while x<7:\n",
        "  if x==2:\n",
        "    print(\"*    *\")\n",
        "  elif x==3:\n",
        "    print(\" *  *\")\n",
        "  elif x==1:\n",
        "    print(\"  * *\")\n",
        "  else:\n",
        "    print(\"    *\")\n",
        "  x=x+1"
      ],
      "metadata": {
        "colab": {
          "base_uri": "https://localhost:8080/"
        },
        "id": "WYofJVm_DTz9",
        "outputId": "2604a9b3-1570-44b0-ba69-4a9cec70a885"
      },
      "execution_count": 4,
      "outputs": [
        {
          "output_type": "stream",
          "name": "stdout",
          "text": [
            "  * *\n",
            "*    *\n",
            " *  *\n",
            "    *\n",
            "    *\n",
            "    *\n"
          ]
        }
      ]
    },
    {
      "cell_type": "code",
      "source": [
        "x=1\n",
        "while x<6:\n",
        "  if x==1:\n",
        "    print(\"*\")\n",
        "  elif x==2:\n",
        "    print(\"* * *\")\n",
        "  elif x==3:\n",
        "    print(\"*    *\")\n",
        "  else:\n",
        "    print(\"*\")\n",
        "  x=x+1"
      ],
      "metadata": {
        "colab": {
          "base_uri": "https://localhost:8080/"
        },
        "id": "apsMyPyxEcnr",
        "outputId": "fdcdd4e1-08b8-43b9-d66a-806e797aab65"
      },
      "execution_count": 8,
      "outputs": [
        {
          "output_type": "stream",
          "name": "stdout",
          "text": [
            "*\n",
            "* * *\n",
            "*    *\n",
            "*\n",
            "*\n"
          ]
        }
      ]
    },
    {
      "cell_type": "code",
      "source": [
        "\n",
        "x=1\n",
        "while x<6:\n",
        "  if x==1 or x==3 or x==5:\n",
        "    print(\" * * * \")\n",
        "  elif x==2:\n",
        "    print(\"*\")\n",
        "  else:\n",
        "    print(\"      *\")\n",
        "  x=x+1"
      ],
      "metadata": {
        "colab": {
          "base_uri": "https://localhost:8080/"
        },
        "id": "YIBEqFi-FyAr",
        "outputId": "278233be-043b-4f7c-bf16-8cd2a5920374"
      },
      "execution_count": 26,
      "outputs": [
        {
          "output_type": "stream",
          "name": "stdout",
          "text": [
            " * * * \n",
            "*\n",
            " * * * \n",
            "      *\n",
            " * * * \n"
          ]
        }
      ]
    },
    {
      "cell_type": "code",
      "source": [
        "x=1\n",
        "while x<6:\n",
        "  if x==3:\n",
        "    print(\"* * *\")\n",
        "  elif x==5:\n",
        "    print(\"   * *\")\n",
        "  else:\n",
        "    print(\"  *\")\n",
        "  x=x+1"
      ],
      "metadata": {
        "colab": {
          "base_uri": "https://localhost:8080/"
        },
        "id": "HP1ShrOZGeGY",
        "outputId": "484fd726-ff27-4ce4-bc35-3190d520c59e"
      },
      "execution_count": 12,
      "outputs": [
        {
          "output_type": "stream",
          "name": "stdout",
          "text": [
            "  *\n",
            "  *\n",
            "* * *\n",
            "  *\n",
            "   * *\n"
          ]
        }
      ]
    },
    {
      "cell_type": "code",
      "source": [
        "x=1\n",
        "while x<5:\n",
        "  if x==1:\n",
        "    print(\"*     *\")\n",
        "  elif x==2:\n",
        "    print(\"*     *\")\n",
        "  elif x==3:\n",
        "    print(\" *   *\")\n",
        "  else:\n",
        "    print(\"  * *  *\")\n",
        "  x=x+1"
      ],
      "metadata": {
        "colab": {
          "base_uri": "https://localhost:8080/"
        },
        "id": "aaStFZ_cG5ws",
        "outputId": "053e2a51-8a35-40d2-cfff-b0dd0b0d5801"
      },
      "execution_count": 13,
      "outputs": [
        {
          "output_type": "stream",
          "name": "stdout",
          "text": [
            "*     *\n",
            "*     *\n",
            " *   *\n",
            "  * *  *\n"
          ]
        }
      ]
    },
    {
      "cell_type": "code",
      "source": [
        "x=1\n",
        "while x<5:\n",
        "  if x==1:\n",
        "    print(\"*     *\")\n",
        "  elif x==2:\n",
        "    print(\" *   *\")\n",
        "  elif x==3:\n",
        "    print(\"  * *\")\n",
        "  else:\n",
        "    print(\"   *\")\n",
        "  x=x+1"
      ],
      "metadata": {
        "colab": {
          "base_uri": "https://localhost:8080/"
        },
        "id": "awlMv3fVHpd_",
        "outputId": "e6b6b0cd-d27a-4691-8f11-91c946442202"
      },
      "execution_count": 16,
      "outputs": [
        {
          "output_type": "stream",
          "name": "stdout",
          "text": [
            "*     *\n",
            " *   *\n",
            "  * *\n",
            "   *\n"
          ]
        }
      ]
    },
    {
      "cell_type": "code",
      "source": [
        "x=1\n",
        "while x<5:\n",
        " if x==3:\n",
        "  print(\"* *  * *\")\n",
        " elif x==2:\n",
        "  print(\"*  *   *\")\n",
        " else:\n",
        "  print(\"*      *\")\n",
        " x=x+1"
      ],
      "metadata": {
        "colab": {
          "base_uri": "https://localhost:8080/"
        },
        "id": "vQ5j3AxSIU5p",
        "outputId": "1aa6b3c4-f324-4bb0-b5e3-5c5345b8273b"
      },
      "execution_count": 17,
      "outputs": [
        {
          "output_type": "stream",
          "name": "stdout",
          "text": [
            "*      *\n",
            "*  *   *\n",
            "* *  * *\n",
            "*      *\n"
          ]
        }
      ]
    },
    {
      "cell_type": "code",
      "source": [
        "x=1\n",
        "while x<6:\n",
        "  if x==1 or x==5:\n",
        "    print(\"*      *\")\n",
        "  elif x==3:\n",
        "    print(\"   *\")\n",
        "  else:\n",
        "    print(\" *   *\")\n",
        "  x=x+1"
      ],
      "metadata": {
        "colab": {
          "base_uri": "https://localhost:8080/"
        },
        "id": "ZJns8yJKI6nB",
        "outputId": "39b7cf3f-a1ac-4e1f-d31f-3b4d296d8679"
      },
      "execution_count": 19,
      "outputs": [
        {
          "output_type": "stream",
          "name": "stdout",
          "text": [
            "*      *\n",
            " *   *\n",
            "   *\n",
            " *   *\n",
            "*      *\n"
          ]
        }
      ]
    },
    {
      "cell_type": "code",
      "source": [
        "x=1\n",
        "while x<6:\n",
        "  if x==1:\n",
        "    print(\"*    *\")\n",
        "  elif x==2:\n",
        "    print(\" *  *\")\n",
        "  elif x==3:\n",
        "    print(\"  *\")\n",
        "  elif x==4:\n",
        "    print(\" *\")\n",
        "  else:\n",
        "    print(\"*\")\n",
        "  x=x+1"
      ],
      "metadata": {
        "colab": {
          "base_uri": "https://localhost:8080/"
        },
        "id": "IGOklkRiJkYy",
        "outputId": "a0ccf92e-9445-4bee-c302-613994bfa57b"
      },
      "execution_count": 24,
      "outputs": [
        {
          "output_type": "stream",
          "name": "stdout",
          "text": [
            "*    *\n",
            " *  *\n",
            "  *\n",
            " *\n",
            "*\n"
          ]
        }
      ]
    },
    {
      "cell_type": "code",
      "source": [
        "x=1\n",
        "while x<5:\n",
        "  if x==1 or x==4:\n",
        "    print(\"* * *\")\n",
        "  elif x==2:\n",
        "    print(\"   *\")\n",
        "  else:\n",
        "    print(\" *\")\n",
        "  x=x+1"
      ],
      "metadata": {
        "colab": {
          "base_uri": "https://localhost:8080/"
        },
        "id": "g809OT3cKX5j",
        "outputId": "b8b16929-9b58-41e9-bd88-8dc596370e9f"
      },
      "execution_count": 25,
      "outputs": [
        {
          "output_type": "stream",
          "name": "stdout",
          "text": [
            "* * *\n",
            "   *\n",
            " *\n",
            "* * *\n"
          ]
        }
      ]
    }
  ]
}