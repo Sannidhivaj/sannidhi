{
  "nbformat": 4,
  "nbformat_minor": 0,
  "metadata": {
    "colab": {
      "provenance": []
    },
    "kernelspec": {
      "name": "python3",
      "display_name": "Python 3"
    },
    "language_info": {
      "name": "python"
    }
  },
  "cells": [
    {
      "cell_type": "code",
      "execution_count": null,
      "metadata": {
        "colab": {
          "base_uri": "https://localhost:8080/"
        },
        "id": "vKU1sH4H5ZBG",
        "outputId": "ab369e0b-2f0e-4b28-c1a0-fecf48ef8343"
      },
      "outputs": [
        {
          "output_type": "stream",
          "name": "stdout",
          "text": [
            "1  \n",
            "2 2  \n",
            "3 3 3 \n",
            "4 4 4 4\n",
            "5 5 5 5 5\n"
          ]
        }
      ],
      "source": [
        "#1\n",
        "for y in range(1,6):\n",
        "  if y==1:\n",
        "    print(\"1  \")\n",
        "  if y==2:\n",
        "    print(\"2 2  \")\n",
        "  if y==3:\n",
        "    print(\"3 3 3 \")\n",
        "  if y==4:\n",
        "    print(\"4 4 4 4\")\n",
        "  if y==5:\n",
        "    print(\"5 5 5 5 5\")"
      ]
    },
    {
      "cell_type": "code",
      "source": [
        "#2\n",
        "for y in range(1,6):\n",
        "  if y==1:\n",
        "    print(\"1  \")\n",
        "  if y==2:\n",
        "    print(\"1 2  \")\n",
        "  if y==3:\n",
        "    print(\"1 2 3 \")\n",
        "  if y==4:\n",
        "    print(\"1 2 3 4\")\n",
        "  if y==5:\n",
        "    print(\"1 2 3 4 5 \")"
      ],
      "metadata": {
        "colab": {
          "base_uri": "https://localhost:8080/"
        },
        "id": "XyYpdLoh6elv",
        "outputId": "6a2081d5-dfe2-40be-aa2b-3b444fcfdd1e"
      },
      "execution_count": null,
      "outputs": [
        {
          "output_type": "stream",
          "name": "stdout",
          "text": [
            "1  \n",
            "1 2  \n",
            "1 2 3 \n",
            "1 2 3 4\n",
            "1 2 3 4 5 \n"
          ]
        }
      ]
    },
    {
      "cell_type": "code",
      "source": [
        "#3\n",
        "for y in range(1,6):\n",
        "  if y==1:\n",
        "    print(\"1 1 1 1 1 \")\n",
        "  if y==2:\n",
        "    print(\"2 2 2 2 \")\n",
        "  if y==3:\n",
        "    print(\"3 3 3 \")\n",
        "  if y==4:\n",
        "    print(\"4 4 \")\n",
        "  if y==5:\n",
        "    print(\"5\")"
      ],
      "metadata": {
        "colab": {
          "base_uri": "https://localhost:8080/"
        },
        "id": "owr_J6b96xpb",
        "outputId": "55f24896-c503-41a6-fe0d-3736ebaa5ba3"
      },
      "execution_count": null,
      "outputs": [
        {
          "output_type": "stream",
          "name": "stdout",
          "text": [
            "1 1 1 1 1 \n",
            "2 2 2 2 \n",
            "3 3 3 \n",
            "4 4 \n",
            "5\n"
          ]
        }
      ]
    },
    {
      "cell_type": "code",
      "source": [
        "#4\n",
        "for y in range(1,6):\n",
        "  if y==1:\n",
        "    print(\"5 5 5 5 5  \")\n",
        "  if y==2:\n",
        "    print(\"5 5 5 5  \")\n",
        "  if y==3:\n",
        "    print(\"5 5 5 \")\n",
        "  if y==4:\n",
        "    print(\"5 5\")\n",
        "  if y==5:\n",
        "    print(\"5\")"
      ],
      "metadata": {
        "colab": {
          "base_uri": "https://localhost:8080/"
        },
        "id": "1KdhlrHZ6-2j",
        "outputId": "203d20e6-c48a-4ed2-ddd9-0415c7b0e578"
      },
      "execution_count": null,
      "outputs": [
        {
          "output_type": "stream",
          "name": "stdout",
          "text": [
            "5 5 5 5 5  \n",
            "5 5 5 5  \n",
            "5 5 5 \n",
            "5 5\n",
            "5\n"
          ]
        }
      ]
    },
    {
      "cell_type": "code",
      "source": [
        "#5\n",
        "for y in range(1,6):\n",
        "  if y==1:\n",
        "    print(\"0 1 2 3 4 5 \")\n",
        "  if y==2:\n",
        "    print(\"0 1 2 3 4  \")\n",
        "  if y==3:\n",
        "    print(\"0 1 2 3\")\n",
        "  if y==4:\n",
        "    print(\"0 1 2\")\n",
        "  if y==5:\n",
        "    print(\"0 1\")"
      ],
      "metadata": {
        "colab": {
          "base_uri": "https://localhost:8080/"
        },
        "id": "FbsUjPtV7lfD",
        "outputId": "be03c244-0a05-4113-fe0f-15f256a3a2c3"
      },
      "execution_count": null,
      "outputs": [
        {
          "output_type": "stream",
          "name": "stdout",
          "text": [
            "0 1 2 3 4 5 \n",
            "0 1 2 3 4  \n",
            "0 1 2 3\n",
            "0 1 2\n",
            "0 1\n"
          ]
        }
      ]
    },
    {
      "cell_type": "code",
      "source": [
        "#6\n",
        "for y in range(1,6):\n",
        "  if y==1:\n",
        "    print(\"1 \")\n",
        "  if y==2:\n",
        "    print(\"3 3  \")\n",
        "  if y==3:\n",
        "    print(\"5 5 5 \")\n",
        "  if y==4:\n",
        "    print(\"7 7 7 7\")\n",
        "  if y==5:\n",
        "    print(\"9 9 9 9 9\")"
      ],
      "metadata": {
        "colab": {
          "base_uri": "https://localhost:8080/"
        },
        "id": "9egBtH3O7_vb",
        "outputId": "9579acb1-866b-402a-b164-892822443046"
      },
      "execution_count": null,
      "outputs": [
        {
          "output_type": "stream",
          "name": "stdout",
          "text": [
            "1 \n",
            "3 3  \n",
            "5 5 5 \n",
            "7 7 7 7\n",
            "9 9 9 9 9\n"
          ]
        }
      ]
    },
    {
      "cell_type": "code",
      "source": [
        "#7\n",
        "for y in range(1,6):\n",
        "  if y==1:\n",
        "    print(\"5 5 5 5 5  \")\n",
        "  if y==2:\n",
        "    print(\"4 4 4 4 \")\n",
        "  if y==3:\n",
        "    print(\"3 3 3 \")\n",
        "  if y==4:\n",
        "    print(\"2 2\")\n",
        "  if y==5:\n",
        "    print(\"1\")"
      ],
      "metadata": {
        "colab": {
          "base_uri": "https://localhost:8080/"
        },
        "id": "fDu2Mb3o9Lhk",
        "outputId": "f1c6fbcd-4514-484d-ecc3-f2dfb066f695"
      },
      "execution_count": null,
      "outputs": [
        {
          "output_type": "stream",
          "name": "stdout",
          "text": [
            "5 5 5 5 5  \n",
            "4 4 4 4 \n",
            "3 3 3 \n",
            "2 2\n",
            "1\n"
          ]
        }
      ]
    },
    {
      "cell_type": "code",
      "source": [
        "#8\n",
        "for y in range(1,6):\n",
        "  if y==1:\n",
        "    print(\"1 \")\n",
        "  if y==2:\n",
        "    print(\"2 1\")\n",
        "  if y==3:\n",
        "    print(\"3 2 1\")\n",
        "  if y==4:\n",
        "    print(\"4 3 2 1\")\n",
        "  if y==5:\n",
        "    print(\"5 4 3 2 1\")"
      ],
      "metadata": {
        "colab": {
          "base_uri": "https://localhost:8080/"
        },
        "id": "vxVXBGKf9ZPA",
        "outputId": "054ede7f-9362-4a9b-c398-f3e0f9e6d708"
      },
      "execution_count": null,
      "outputs": [
        {
          "output_type": "stream",
          "name": "stdout",
          "text": [
            "1 \n",
            "2 1\n",
            "3 2 1\n",
            "4 3 2 1\n",
            "5 4 3 2 1\n"
          ]
        }
      ]
    },
    {
      "cell_type": "code",
      "source": [
        "#8\n",
        "for y in range(1,6):\n",
        "  if y==1:\n",
        "    print(\"5 4 3 2 1  \")\n",
        "  if y==2:\n",
        "    print(\"4 3 2 1 \")\n",
        "  if y==3:\n",
        "    print(\"3 2 1 \")\n",
        "  if y==4:\n",
        "    print(\"2 1\")\n",
        "  if y==5:\n",
        "    print(\"1\")"
      ],
      "metadata": {
        "colab": {
          "base_uri": "https://localhost:8080/"
        },
        "id": "kwRlVPM89rTJ",
        "outputId": "381c8b5b-fd70-47ad-97ba-4d98c8b69208"
      },
      "execution_count": null,
      "outputs": [
        {
          "output_type": "stream",
          "name": "stdout",
          "text": [
            "5 4 3 2 1  \n",
            "4 3 2 1 \n",
            "3 2 1 \n",
            "2 1\n",
            "1\n"
          ]
        }
      ]
    },
    {
      "cell_type": "code",
      "source": [
        "#9\n",
        "for y in range(1,5):\n",
        "  if y==1:\n",
        "    print(\"1 \")\n",
        "  if y==2:\n",
        "    print(\"3 2  \")\n",
        "  if y==3:\n",
        "    print(\"6 5 4 \")\n",
        "  if y==4:\n",
        "    print(\"10 9 8 7\")"
      ],
      "metadata": {
        "colab": {
          "base_uri": "https://localhost:8080/"
        },
        "id": "Peyp-njI96Zz",
        "outputId": "97eecd10-6593-4654-9647-268311fcf095"
      },
      "execution_count": null,
      "outputs": [
        {
          "output_type": "stream",
          "name": "stdout",
          "text": [
            "1 \n",
            "3 2  \n",
            "6 5 4 \n",
            "10 9 8 7\n"
          ]
        }
      ]
    },
    {
      "cell_type": "code",
      "source": [
        "#10\n",
        "for y in range(1,6):\n",
        "  if y==1:\n",
        "    print(\"        1 \" )\n",
        "  if y==2:\n",
        "    print(\"      1 2  \")\n",
        "  if y==3:\n",
        "    print(\"    1 2 3 \")\n",
        "  if y==4:\n",
        "    print(\"  1 2 3 4\")\n",
        "  if y==5:\n",
        "    print(\"1 2 3 4 5\")"
      ],
      "metadata": {
        "colab": {
          "base_uri": "https://localhost:8080/"
        },
        "id": "_2uKDgUo-ghz",
        "outputId": "d42aea5a-3769-400c-c647-dd15b9fab433"
      },
      "execution_count": null,
      "outputs": [
        {
          "output_type": "stream",
          "name": "stdout",
          "text": [
            "        1 \n",
            "      1 2  \n",
            "    1 2 3 \n",
            "  1 2 3 4\n",
            "1 2 3 4 5\n"
          ]
        }
      ]
    },
    {
      "cell_type": "code",
      "source": [
        "#11\n",
        "for y in range(1,8):\n",
        "  if y==1:\n",
        "    print(\"1 \")\n",
        "  if y==2:\n",
        "    print(\"1 1\")\n",
        "  if y==3:\n",
        "    print(\"1 2 1 \")\n",
        "  if y==4:\n",
        "    print(\"1 3 3 1\")\n",
        "  if y==5:\n",
        "    print(\"1 4 6 4 1\")\n",
        "  if y==6:\n",
        "    print(\"1 5 10 10 5 1\")\n",
        "  if y==7:\n",
        "    print(\"1 6 15 20 15 6 1\")"
      ],
      "metadata": {
        "colab": {
          "base_uri": "https://localhost:8080/"
        },
        "id": "1dTJKwt9GeqP",
        "outputId": "c332f25e-d841-49a1-bdca-0d37dfc28736"
      },
      "execution_count": null,
      "outputs": [
        {
          "output_type": "stream",
          "name": "stdout",
          "text": [
            "1 \n",
            "1 1\n",
            "1 2 1 \n",
            "1 3 3 1\n",
            "1 4 6 4 1\n",
            "1 5 10 10 5 1\n",
            "1 6 15 20 15 6 1\n"
          ]
        }
      ]
    },
    {
      "cell_type": "code",
      "source": [
        "#12\n",
        "for y in range(1,6):\n",
        "  if y==1:\n",
        "    print(\"1 2 3 4 5 \")\n",
        "  if y==2:\n",
        "    print(\"2 2 3 4 5 \")\n",
        "  if y==3:\n",
        "    print(\"3 3 3 4 5 \")\n",
        "  if y==4:\n",
        "    print(\"4 4 4 4 5\")\n",
        "  if y==5:\n",
        "    print(\"5 5 5 5 5\")"
      ],
      "metadata": {
        "colab": {
          "base_uri": "https://localhost:8080/"
        },
        "id": "NjJv6AbZHFgr",
        "outputId": "cdbdc31a-70f6-48a3-bff3-aa7f41a7c8da"
      },
      "execution_count": null,
      "outputs": [
        {
          "output_type": "stream",
          "name": "stdout",
          "text": [
            "1 2 3 4 5 \n",
            "2 2 3 4 5 \n",
            "3 3 3 4 5 \n",
            "4 4 4 4 5\n",
            "5 5 5 5 5\n"
          ]
        }
      ]
    },
    {
      "cell_type": "code",
      "source": [
        "#13\n",
        "for y in range(1,6):\n",
        "  if y==1:\n",
        "    print(\"5 5 5 5 5  \")\n",
        "  if y==2:\n",
        "    print(\"5 5 5 5  \")\n",
        "  if y==3:\n",
        "    print(\"5 5 5 \")\n",
        "  if y==4:\n",
        "    print(\"5 5\")\n",
        "  if y==5:\n",
        "    print(\"5\")"
      ],
      "metadata": {
        "id": "DlMvImG8IlCr"
      },
      "execution_count": null,
      "outputs": []
    },
    {
      "cell_type": "code",
      "source": [
        "#14\n",
        "for y in range(1,9):\n",
        "  if y==1:\n",
        "    print(\"1 \")\n",
        "  if y==2:\n",
        "    print(\"2 4\")\n",
        "  if y==3:\n",
        "    print(\"3 6 9\")\n",
        "  if y==4:\n",
        "    print(\"4 8 12 16\")\n",
        "  if y==5:\n",
        "    print(\"5 10 15 20 25\")\n",
        "  if y==6:\n",
        "    print(\"6 12 18 24 30 36\")\n",
        "  if y==7:\n",
        "    print(\"7 14 21 28 35 42 49\")\n",
        "  if y==8:\n",
        "    print(\"8 16 24 32 40 48 56 64\")"
      ],
      "metadata": {
        "colab": {
          "base_uri": "https://localhost:8080/"
        },
        "id": "x5XqEyWuIulj",
        "outputId": "2b5c71c0-19de-4ce1-f68a-3bea892d98dd"
      },
      "execution_count": null,
      "outputs": [
        {
          "output_type": "stream",
          "name": "stdout",
          "text": [
            "1 \n",
            "2 4\n",
            "3 6 9\n",
            "4 8 12 16\n",
            "5 10 15 20 25\n",
            "6 12 18 24 30 36\n",
            "7 14 21 28 35 42 49\n",
            "8 16 24 32 40 48 56 64\n"
          ]
        }
      ]
    },
    {
      "cell_type": "code",
      "source": [
        "#15\n",
        "x=1\n",
        "while x<6:\n",
        "  if x==1:\n",
        "    print(\"* \")\n",
        "  elif x==2:\n",
        "    print(\"* *\")\n",
        "  elif x==3:\n",
        "    print(\"* * *   \")\n",
        "  elif x==4:\n",
        "    print(\"* * * *\")\n",
        "  else:\n",
        "    print(\"* * * * * \")\n",
        "  x=x+1"
      ],
      "metadata": {
        "colab": {
          "base_uri": "https://localhost:8080/"
        },
        "id": "OJIBsXVvKBPh",
        "outputId": "acb436d5-71b5-47b8-d731-7ac179bf67c5"
      },
      "execution_count": null,
      "outputs": [
        {
          "output_type": "stream",
          "name": "stdout",
          "text": [
            "* \n",
            "* *\n",
            "* * *   \n",
            "* * * *\n",
            "* * * * * \n"
          ]
        }
      ]
    },
    {
      "cell_type": "code",
      "source": [
        "#16\n",
        "x=1\n",
        "while x<6:\n",
        "  if x==1:\n",
        "    print(\"        * \")\n",
        "  elif x==2:\n",
        "    print(\"      * *\")\n",
        "  elif x==3:\n",
        "    print(\"    * * *\")\n",
        "  elif x==4:\n",
        "    print(\"  * * * *\")\n",
        "  else:\n",
        "    print(\"* * * * * \")\n",
        "  x=x+1"
      ],
      "metadata": {
        "colab": {
          "base_uri": "https://localhost:8080/"
        },
        "id": "QLbjSddDKoqH",
        "outputId": "447c1356-a900-42d9-a985-25d77477273e"
      },
      "execution_count": null,
      "outputs": [
        {
          "output_type": "stream",
          "name": "stdout",
          "text": [
            "        * \n",
            "      * *\n",
            "    * * *\n",
            "  * * * *\n",
            "* * * * * \n"
          ]
        }
      ]
    },
    {
      "cell_type": "code",
      "source": [
        "#17\n",
        "x=1\n",
        "while x<6:\n",
        "  if x==1:\n",
        "    print(\"* * * * *\")\n",
        "  elif x==2:\n",
        "    print(\"* * * *\")\n",
        "  elif x==3:\n",
        "    print(\"* * *   \")\n",
        "  elif x==4:\n",
        "    print(\"* * \")\n",
        "  else:\n",
        "    print(\"*\")\n",
        "  x=x+1"
      ],
      "metadata": {
        "colab": {
          "base_uri": "https://localhost:8080/"
        },
        "id": "oFAF4Nl-LOJ2",
        "outputId": "6d28ac82-5c80-4b3f-93ec-f62347528a9c"
      },
      "execution_count": null,
      "outputs": [
        {
          "output_type": "stream",
          "name": "stdout",
          "text": [
            "* * * * *\n",
            "* * * *\n",
            "* * *   \n",
            "* * \n",
            "*\n"
          ]
        }
      ]
    },
    {
      "cell_type": "code",
      "source": [
        "#18\n",
        "x=1\n",
        "while x<7:\n",
        "  if x==1:\n",
        "    print(\"* * * * * *\")\n",
        "  if x==2:\n",
        "    print(\" * * * * * \")\n",
        "  if x==3:\n",
        "    print(\"  * * * *  \")\n",
        "  if x==4:\n",
        "    print(\"   * * *   \")\n",
        "  if x==5:\n",
        "    print(\"    * *   \")\n",
        "  if x==6:\n",
        "    print(\"     *    \")\n",
        "  x=x+1"
      ],
      "metadata": {
        "colab": {
          "base_uri": "https://localhost:8080/"
        },
        "id": "N3hhkMpDLem2",
        "outputId": "3ff3f125-4051-4125-b508-4f4d651d0668"
      },
      "execution_count": null,
      "outputs": [
        {
          "output_type": "stream",
          "name": "stdout",
          "text": [
            "* * * * * *\n",
            " * * * * * \n",
            "  * * * *  \n",
            "   * * *   \n",
            "    * *   \n",
            "     *    \n"
          ]
        }
      ]
    },
    {
      "cell_type": "code",
      "source": [
        "#19\n",
        "x=1\n",
        "while x<6:\n",
        "  if x==1:\n",
        "    print(\" ***** \")\n",
        "  if x==2:\n",
        "    print(\" ****\")\n",
        "  if x==3:\n",
        "    print(\" ***\")\n",
        "  if x==4:\n",
        "    print(\" ** \")\n",
        "  if x==5:\n",
        "    print(\" *\")\n",
        "  x=x+1"
      ],
      "metadata": {
        "colab": {
          "base_uri": "https://localhost:8080/"
        },
        "id": "BdMZpKlfUrVb",
        "outputId": "adbe5cd2-99b6-4894-8f88-7be5c1715b71"
      },
      "execution_count": null,
      "outputs": [
        {
          "output_type": "stream",
          "name": "stdout",
          "text": [
            " ***** \n",
            " ****\n",
            " ***\n",
            " ** \n",
            " *\n"
          ]
        }
      ]
    },
    {
      "cell_type": "code",
      "source": [
        "#20\n",
        "x=1\n",
        "while x<14:\n",
        "  if x==1 or x==13:\n",
        "    print(\"*      \")\n",
        "  if x==2 or x==12:\n",
        "    print(\"* *   \")\n",
        "  if x==3 or x==11:\n",
        "    print(\"* * *  \")\n",
        "  if x==4 or x==10:\n",
        "    print(\"* * * * \")\n",
        "  if x==5 or x==9:\n",
        "    print(\"* * * * *  \")\n",
        "  if x==6 or x==8:\n",
        "    print(\"* * * * * *\")\n",
        "  else:\n",
        "    print(\"            \")\n",
        "  x=x+1"
      ],
      "metadata": {
        "colab": {
          "base_uri": "https://localhost:8080/"
        },
        "id": "Q4wmQt3mEmg3",
        "outputId": "44f27853-4bd6-4c42-98dd-a66658a5f201"
      },
      "execution_count": null,
      "outputs": [
        {
          "output_type": "stream",
          "name": "stdout",
          "text": [
            "*      \n",
            "            \n",
            "* *   \n",
            "            \n",
            "* * *  \n",
            "            \n",
            "* * * * \n",
            "            \n",
            "* * * * *  \n",
            "            \n",
            "* * * * * *\n",
            "            \n",
            "* * * * * *\n",
            "* * * * *  \n",
            "            \n",
            "* * * * \n",
            "            \n",
            "* * *  \n",
            "            \n",
            "* *   \n",
            "            \n",
            "*      \n",
            "            \n"
          ]
        }
      ]
    }
  ]
}